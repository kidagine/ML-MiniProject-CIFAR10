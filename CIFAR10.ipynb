{
 "cells": [
  {
   "cell_type": "markdown",
   "id": "c4feea48",
   "metadata": {},
   "source": [
    "## CIFAR10"
   ]
  },
  {
   "cell_type": "markdown",
   "id": "f7c8f9a4",
   "metadata": {},
   "source": [
    "<table align=\"left\">\n",
    "  <td>\n",
    "    <a target=\"_blank\" href=\"https://colab.research.google.com/drive/1I2aWD5twJdrq0SI2QD91HB5zCvvvCE_i\">\n",
    "    <img src=\"https://www.tensorflow.org/images/colab_logo_32px.png\" />Run in Google Colab</a>\n",
    "  </td>\n",
    "</table>"
   ]
  },
  {
   "cell_type": "markdown",
   "id": "4b7b3b2a",
   "metadata": {},
   "source": [
    "# CIFAR10 Dataset\n",
    "\n",
    "The CIFAR-10 dataset consists of 60000 32x32 colour images in 10 classes, with 6000 images per class. There are 50000 training images and 10000 test images.\n",
    "\n",
    "The dataset is divided into five training batches and one test batch, each with 10000 images. The test batch contains exactly 1000 randomly-selected images from each class. The training batches contain the remaining images in random order, but some training batches may contain more images from one class than another. Between them, the training batches contain exactly 5000 images from each class.\n",
    "\n",
    "We want to train a machine learning model to classify examples with the correct label based on the images.\n",
    "![title](CIFAR10.jpg)"
   ]
  },
  {
   "cell_type": "markdown",
   "id": "09f98a5d",
   "metadata": {},
   "source": [
    "# Setup"
   ]
  },
  {
   "cell_type": "code",
   "execution_count": 1,
   "id": "28b1d07d",
   "metadata": {},
   "outputs": [],
   "source": [
    "#Importing essential libraries\n",
    "\n",
    "import tensorflow as tf\n",
    "from tensorflow import keras\n",
    "from tensorflow.keras import layers\n",
    "from tensorflow.keras.datasets import cifar10\n",
    "import matplotlib.pyplot as plt"
   ]
  },
  {
   "cell_type": "markdown",
   "id": "3d511222",
   "metadata": {},
   "source": [
    "## Loading"
   ]
  },
  {
   "cell_type": "code",
   "execution_count": 2,
   "id": "344235a6",
   "metadata": {},
   "outputs": [],
   "source": [
    "#Loading dataset using tenserflow keras datasets\n",
    "\n",
    "(train_images, train_labels), (test_images, test_labels) = cifar10.load_data()"
   ]
  },
  {
   "cell_type": "markdown",
   "id": "9e014fc6",
   "metadata": {},
   "source": [
    "## Data Analysis\n"
   ]
  },
  {
   "cell_type": "markdown",
   "id": "cf4a77f3",
   "metadata": {},
   "source": [
    "We can see there are 50.000 training images and 10.000 test images"
   ]
  },
  {
   "cell_type": "code",
   "execution_count": 3,
   "id": "8fc9cf48",
   "metadata": {},
   "outputs": [
    {
     "name": "stdout",
     "output_type": "stream",
     "text": [
      "(50000, 32, 32, 3)\n",
      "(50000, 1)\n"
     ]
    }
   ],
   "source": [
    "print(train_images.shape)\n",
    "print(train_labels.shape)"
   ]
  },
  {
   "cell_type": "code",
   "execution_count": 4,
   "id": "3c3d2791",
   "metadata": {},
   "outputs": [
    {
     "name": "stdout",
     "output_type": "stream",
     "text": [
      "(10000, 32, 32, 3)\n",
      "(10000, 1)\n"
     ]
    }
   ],
   "source": [
    "print(test_images.shape)\n",
    "print(test_labels.shape)"
   ]
  },
  {
   "cell_type": "markdown",
   "id": "6768cd5e",
   "metadata": {},
   "source": [
    "Here we can see an example from our train dataset"
   ]
  },
  {
   "cell_type": "code",
   "execution_count": 5,
   "id": "73536d75",
   "metadata": {},
   "outputs": [
    {
     "name": "stdout",
     "output_type": "stream",
     "text": [
      "label: frog\n"
     ]
    },
    {
     "data": {
      "image/png": "[encoded data removed]",
      "text/plain": [
       "<Figure size 432x288 with 1 Axes>"
      ]
     },
     "metadata": {
      "needs_background": "light"
     },
     "output_type": "display_data"
    }
   ],
   "source": [
    "class_names = ['airplane', 'automobile', 'bird', 'cat', 'deer',\n",
    "               'dog', 'frog', 'horse', 'ship', 'truck']\n",
    "index = 0\n",
    "plt.imshow(train_images[index])\n",
    "print(\"label: \" + class_names[int(train_labels[index])])"
   ]
  },
  {
   "cell_type": "markdown",
   "id": "14ff2afa",
   "metadata": {},
   "source": [
    "## Preparing"
   ]
  },
  {
   "cell_type": "code",
   "execution_count": 6,
   "id": "63c19db8",
   "metadata": {},
   "outputs": [],
   "source": [
    "#Divide images with 255 to normalize them between 0 and 1\n",
    "\n",
    "train_images = train_images.astype(\"float32\") / 255.0\n",
    "test_images = test_images.astype(\"float32\") / 255.0"
   ]
  },
  {
   "cell_type": "markdown",
   "id": "86caae91",
   "metadata": {},
   "source": [
    "## Training"
   ]
  },
  {
   "cell_type": "code",
   "execution_count": 7,
   "id": "864ab0f8",
   "metadata": {},
   "outputs": [],
   "source": [
    "#We use the keras sequential model to train our machine learning     \n",
    "\n",
    "model = keras.Sequential(\n",
    "    [\n",
    "        layers.Flatten(input_shape=(32,32,3)),\n",
    "        layers.Dense(300, activation='relu'),\n",
    "        layers.Dense(300, activation='relu'),\n",
    "        layers.Dense(300, activation='relu'),\n",
    "        layers.Dropout(0.2),\n",
    "        layers.Dense(10, activation='softmax'),\n",
    "    ]\n",
    ")"
   ]
  },
  {
   "cell_type": "code",
   "execution_count": 8,
   "id": "9ca7f3f0",
   "metadata": {},
   "outputs": [
    {
     "name": "stdout",
     "output_type": "stream",
     "text": [
      "Model: \"sequential\"\n",
      "_________________________________________________________________\n",
      " Layer (type)                Output Shape              Param #   \n",
      "=================================================================\n",
      " flatten (Flatten)           (None, 3072)              0         \n",
      "                                                                 \n",
      " dense (Dense)               (None, 300)               921900    \n",
      "                                                                 \n",
      " dense_1 (Dense)             (None, 300)               90300     \n",
      "                                                                 \n",
      " dense_2 (Dense)             (None, 300)               90300     \n",
      "                                                                 \n",
      " dropout (Dropout)           (None, 300)               0         \n",
      "                                                                 \n",
      " dense_3 (Dense)             (None, 10)                3010      \n",
      "                                                                 \n",
      "=================================================================\n",
      "Total params: 1,105,510\n",
      "Trainable params: 1,105,510\n",
      "Non-trainable params: 0\n",
      "_________________________________________________________________\n"
     ]
    }
   ],
   "source": [
    "#Gives us a summary of our model\n",
    "\n",
    "model.summary()"
   ]
  },
  {
   "cell_type": "code",
   "execution_count": 9,
   "id": "2309c1cd",
   "metadata": {},
   "outputs": [],
   "source": [
    "#Compile our model\n",
    "\n",
    "model.compile(\n",
    "    optimizer=tf.keras.optimizers.SGD(momentum=0.9),\n",
    "    loss=tf.keras.losses.SparseCategoricalCrossentropy(from_logits=False),\n",
    "    metrics=['accuracy'],\n",
    ")"
   ]
  },
  {
   "cell_type": "code",
   "execution_count": 10,
   "id": "24c8a538",
   "metadata": {},
   "outputs": [],
   "source": [
    "#Defining callbacks\n",
    "\n",
    "early_stopping = keras.callbacks.EarlyStopping(patience=10, restore_best_weights=True)\n",
    "\n",
    "learning_rate_scheduling = keras.callbacks.ReduceLROnPlateau(factor=0.4, patience=4)"
   ]
  },
  {
   "cell_type": "code",
   "execution_count": 11,
   "id": "700ce286",
   "metadata": {},
   "outputs": [
    {
     "name": "stdout",
     "output_type": "stream",
     "text": [
      "Epoch 1/50\n",
      "782/782 [==============================] - 5s 5ms/step - loss: 1.8746 - accuracy: 0.3175 - val_loss: 1.7796 - val_accuracy: 0.3667 - lr: 0.0100\n",
      "Epoch 2/50\n",
      "782/782 [==============================] - 4s 5ms/step - loss: 1.6942 - accuracy: 0.3927 - val_loss: 1.6479 - val_accuracy: 0.4089 - lr: 0.0100\n",
      "Epoch 3/50\n",
      "782/782 [==============================] - 4s 5ms/step - loss: 1.6083 - accuracy: 0.4247 - val_loss: 1.5529 - val_accuracy: 0.4483 - lr: 0.0100\n",
      "Epoch 4/50\n",
      "782/782 [==============================] - 4s 5ms/step - loss: 1.5505 - accuracy: 0.4435 - val_loss: 1.5114 - val_accuracy: 0.4467 - lr: 0.0100\n",
      "Epoch 5/50\n",
      "782/782 [==============================] - 4s 5ms/step - loss: 1.4992 - accuracy: 0.4642 - val_loss: 1.4922 - val_accuracy: 0.4614 - lr: 0.0100\n",
      "Epoch 6/50\n",
      "782/782 [==============================] - 4s 5ms/step - loss: 1.4650 - accuracy: 0.4752 - val_loss: 1.4741 - val_accuracy: 0.4738 - lr: 0.0100\n",
      "Epoch 7/50\n",
      "782/782 [==============================] - 4s 6ms/step - loss: 1.4339 - accuracy: 0.4867 - val_loss: 1.4943 - val_accuracy: 0.4642 - lr: 0.0100\n",
      "Epoch 8/50\n",
      "782/782 [==============================] - 4s 5ms/step - loss: 1.4053 - accuracy: 0.4974 - val_loss: 1.4266 - val_accuracy: 0.4906 - lr: 0.0100\n",
      "Epoch 9/50\n",
      "782/782 [==============================] - 4s 5ms/step - loss: 1.3772 - accuracy: 0.5075 - val_loss: 1.4215 - val_accuracy: 0.4880 - lr: 0.0100\n",
      "Epoch 10/50\n",
      "782/782 [==============================] - 4s 5ms/step - loss: 1.3553 - accuracy: 0.5178 - val_loss: 1.3882 - val_accuracy: 0.5128 - lr: 0.0100\n",
      "Epoch 11/50\n",
      "782/782 [==============================] - 4s 5ms/step - loss: 1.3294 - accuracy: 0.5230 - val_loss: 1.4046 - val_accuracy: 0.4940 - lr: 0.0100\n",
      "Epoch 12/50\n",
      "782/782 [==============================] - 4s 5ms/step - loss: 1.3141 - accuracy: 0.5274 - val_loss: 1.3972 - val_accuracy: 0.5090 - lr: 0.0100\n",
      "Epoch 13/50\n",
      "782/782 [==============================] - 4s 5ms/step - loss: 1.2778 - accuracy: 0.5445 - val_loss: 1.3996 - val_accuracy: 0.5090 - lr: 0.0100\n",
      "Epoch 14/50\n",
      "782/782 [==============================] - 4s 5ms/step - loss: 1.2551 - accuracy: 0.5497 - val_loss: 1.3990 - val_accuracy: 0.5079 - lr: 0.0100\n",
      "Epoch 15/50\n",
      "782/782 [==============================] - 4s 5ms/step - loss: 1.1438 - accuracy: 0.5903 - val_loss: 1.3169 - val_accuracy: 0.5330 - lr: 0.0040\n",
      "Epoch 16/50\n",
      "782/782 [==============================] - 4s 5ms/step - loss: 1.1135 - accuracy: 0.6017 - val_loss: 1.3217 - val_accuracy: 0.5334 - lr: 0.0040\n",
      "Epoch 17/50\n",
      "782/782 [==============================] - 4s 5ms/step - loss: 1.0954 - accuracy: 0.6074 - val_loss: 1.3266 - val_accuracy: 0.5320 - lr: 0.0040\n",
      "Epoch 18/50\n",
      "782/782 [==============================] - 4s 6ms/step - loss: 1.0785 - accuracy: 0.6131 - val_loss: 1.3194 - val_accuracy: 0.5369 - lr: 0.0040\n",
      "Epoch 19/50\n",
      "782/782 [==============================] - 4s 5ms/step - loss: 1.0665 - accuracy: 0.6181 - val_loss: 1.3159 - val_accuracy: 0.5356 - lr: 0.0040\n",
      "Epoch 20/50\n",
      "782/782 [==============================] - 4s 5ms/step - loss: 1.0522 - accuracy: 0.6241 - val_loss: 1.3325 - val_accuracy: 0.5363 - lr: 0.0040\n",
      "Epoch 21/50\n",
      "782/782 [==============================] - 5s 6ms/step - loss: 1.0373 - accuracy: 0.6287 - val_loss: 1.3383 - val_accuracy: 0.5344 - lr: 0.0040\n",
      "Epoch 22/50\n",
      "782/782 [==============================] - 4s 5ms/step - loss: 1.0187 - accuracy: 0.6344 - val_loss: 1.3251 - val_accuracy: 0.5368 - lr: 0.0040\n",
      "Epoch 23/50\n",
      "782/782 [==============================] - 4s 5ms/step - loss: 1.0054 - accuracy: 0.6413 - val_loss: 1.3292 - val_accuracy: 0.5392 - lr: 0.0040\n",
      "Epoch 24/50\n",
      "782/782 [==============================] - 4s 5ms/step - loss: 0.9304 - accuracy: 0.6668 - val_loss: 1.3151 - val_accuracy: 0.5450 - lr: 0.0016\n",
      "Epoch 25/50\n",
      "782/782 [==============================] - 4s 5ms/step - loss: 0.9129 - accuracy: 0.6736 - val_loss: 1.3197 - val_accuracy: 0.5439 - lr: 0.0016\n",
      "Epoch 26/50\n",
      "782/782 [==============================] - 4s 5ms/step - loss: 0.9034 - accuracy: 0.6780 - val_loss: 1.3343 - val_accuracy: 0.5432 - lr: 0.0016\n",
      "Epoch 27/50\n",
      "782/782 [==============================] - 4s 5ms/step - loss: 0.8934 - accuracy: 0.6812 - val_loss: 1.3171 - val_accuracy: 0.5490 - lr: 0.0016\n",
      "Epoch 28/50\n",
      "782/782 [==============================] - 4s 5ms/step - loss: 0.8839 - accuracy: 0.6818 - val_loss: 1.3465 - val_accuracy: 0.5471 - lr: 0.0016\n",
      "Epoch 29/50\n",
      "782/782 [==============================] - 4s 5ms/step - loss: 0.8493 - accuracy: 0.6969 - val_loss: 1.3256 - val_accuracy: 0.5464 - lr: 6.4000e-04\n",
      "Epoch 30/50\n",
      "782/782 [==============================] - 4s 5ms/step - loss: 0.8398 - accuracy: 0.7006 - val_loss: 1.3293 - val_accuracy: 0.5502 - lr: 6.4000e-04\n",
      "Epoch 31/50\n",
      "782/782 [==============================] - 4s 5ms/step - loss: 0.8348 - accuracy: 0.7021 - val_loss: 1.3308 - val_accuracy: 0.5505 - lr: 6.4000e-04\n",
      "Epoch 32/50\n",
      "782/782 [==============================] - 4s 5ms/step - loss: 0.8294 - accuracy: 0.7039 - val_loss: 1.3351 - val_accuracy: 0.5478 - lr: 6.4000e-04\n",
      "Epoch 33/50\n",
      "782/782 [==============================] - 4s 5ms/step - loss: 0.8147 - accuracy: 0.7109 - val_loss: 1.3282 - val_accuracy: 0.5508 - lr: 2.5600e-04\n",
      "Epoch 34/50\n",
      "782/782 [==============================] - 4s 5ms/step - loss: 0.8118 - accuracy: 0.7105 - val_loss: 1.3325 - val_accuracy: 0.5513 - lr: 2.5600e-04\n"
     ]
    }
   ],
   "source": [
    "#Train our model with specified parameters\n",
    "\n",
    "history = model.fit(train_images, train_labels, batch_size=64, epochs=50, verbose=1,\n",
    "                    validation_data=(test_images, test_labels),\n",
    "                    callbacks=[early_stopping, learning_rate_scheduling])"
   ]
  },
  {
   "cell_type": "markdown",
   "id": "3133867c",
   "metadata": {},
   "source": [
    "## Evaluation"
   ]
  },
  {
   "cell_type": "code",
   "execution_count": 12,
   "id": "1d8ce73a",
   "metadata": {},
   "outputs": [
    {
     "data": {
      "text/plain": [
       "<matplotlib.legend.Legend at 0x1cda91d2f70>"
      ]
     },
     "execution_count": 12,
     "metadata": {},
     "output_type": "execute_result"
    },
    {
     "data": {
      "image/png": "[encoded data removed]",
      "text/plain": [
       "<Figure size 432x288 with 1 Axes>"
      ]
     },
     "metadata": {
      "needs_background": "light"
     },
     "output_type": "display_data"
    }
   ],
   "source": [
    "#Create graph using matplotlib\n",
    "\n",
    "plt.plot(history.history['accuracy'], label='accuracy')\n",
    "plt.plot(history.history['val_accuracy'], label = 'val_accuracy')\n",
    "plt.xlabel('Epoch')\n",
    "plt.ylabel('Accuracy')\n",
    "plt.ylim([0.5, 1])\n",
    "plt.legend(loc='lower right')"
   ]
  },
  {
   "cell_type": "code",
   "execution_count": 13,
   "id": "d74c35e5",
   "metadata": {},
   "outputs": [
    {
     "name": "stdout",
     "output_type": "stream",
     "text": [
      "157/157 - 0s - loss: 1.3151 - accuracy: 0.5450 - 403ms/epoch - 3ms/step\n"
     ]
    },
    {
     "data": {
      "text/plain": [
       "[1.3150964975357056, 0.5450000166893005]"
      ]
     },
     "execution_count": 13,
     "metadata": {},
     "output_type": "execute_result"
    }
   ],
   "source": [
    "#Evaluate the model using the test dataset\n",
    "\n",
    "model.evaluate(test_images, test_labels, batch_size=64, verbose=2)"
   ]
  },
  {
   "cell_type": "markdown",
   "id": "daef521e",
   "metadata": {},
   "source": [
    "## Prediction"
   ]
  },
  {
   "cell_type": "code",
   "execution_count": 14,
   "id": "267a1c42",
   "metadata": {},
   "outputs": [
    {
     "name": "stdout",
     "output_type": "stream",
     "text": [
      "expected: cat\n",
      "actual: cat\n"
     ]
    },
    {
     "data": {
      "image/png": "[encoded data removed]",
      "text/plain": [
       "<Figure size 432x288 with 1 Axes>"
      ]
     },
     "metadata": {
      "needs_background": "light"
     },
     "output_type": "display_data"
    }
   ],
   "source": [
    "#Prediction to see if our model is accurate\n",
    "\n",
    "pred_label = model.predict(test_images)\n",
    "\n",
    "index = 0\n",
    "plt.imshow(test_images[index])\n",
    "print(\"expected: \" + class_names[pred_label[index].argmax()])\n",
    "print(\"actual: \" + class_names[int(test_labels[index])])"
   ]
  },
  {
   "cell_type": "code",
   "execution_count": null,
   "id": "84aa5152",
   "metadata": {},
   "outputs": [],
   "source": []
  }
 ],
 "metadata": {
  "kernelspec": {
   "display_name": "Python 3 (ipykernel)",
   "language": "python",
   "name": "python3"
  },
  "language_info": {
   "codemirror_mode": {
    "name": "ipython",
    "version": 3
   },
   "file_extension": ".py",
   "mimetype": "text/x-python",
   "name": "python",
   "nbconvert_exporter": "python",
   "pygments_lexer": "ipython3",
   "version": "3.9.9"
  }
 },
 "nbformat": 4,
 "nbformat_minor": 5
}
