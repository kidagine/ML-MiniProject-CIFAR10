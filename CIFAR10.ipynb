{
 "cells": [
  {
   "cell_type": "markdown",
   "id": "c4feea48",
   "metadata": {},
   "source": [
    "## CIFAR10"
   ]
  },
  {
   "cell_type": "markdown",
   "id": "f7c8f9a4",
   "metadata": {},
   "source": [
    "<table align=\"left\">\n",
    "  <td>\n",
    "    <a target=\"_blank\" href=\"https://colab.research.google.com/drive/1I2aWD5twJdrq0SI2QD91HB5zCvvvCE_i\">\n",
    "    <img src=\"https://www.tensorflow.org/images/colab_logo_32px.png\" />Run in Google Colab</a>\n",
    "  </td>\n",
    "</table>"
   ]
  },
  {
   "cell_type": "markdown",
   "id": "4b7b3b2a",
   "metadata": {},
   "source": [
    "# CIFAR10 Dataset\n",
    "\n",
    "The CIFAR-10 dataset consists of 60000 32x32 colour images in 10 classes, with 6000 images per class. There are 50000 training images and 10000 test images.\n",
    "\n",
    "The dataset is divided into five training batches and one test batch, each with 10000 images. The test batch contains exactly 1000 randomly-selected images from each class. The training batches contain the remaining images in random order, but some training batches may contain more images from one class than another. Between them, the training batches contain exactly 5000 images from each class.\n",
    "\n",
    "We want to train a machine learning model to classify examples with the correct label based on the images.\n",
    "![title](CIFAR10.jpg)"
   ]
  },
  {
   "cell_type": "markdown",
   "id": "09f98a5d",
   "metadata": {},
   "source": [
    "# Setup"
   ]
  },
  {
   "cell_type": "code",
   "execution_count": 1,
   "id": "28b1d07d",
   "metadata": {},
   "outputs": [],
   "source": [
    "#Importing essential libraries\n",
    "\n",
    "import tensorflow as tf\n",
    "from tensorflow import keras\n",
    "from tensorflow.keras import layers\n",
    "from tensorflow.keras.datasets import cifar10\n",
    "import matplotlib.pyplot as plt"
   ]
  },
  {
   "cell_type": "markdown",
   "id": "3d511222",
   "metadata": {},
   "source": [
    "## Loading"
   ]
  },
  {
   "cell_type": "code",
   "execution_count": 2,
   "id": "344235a6",
   "metadata": {},
   "outputs": [],
   "source": [
    "#Loading dataset using tenserflow keras datasets\n",
    "\n",
    "(train_images, train_labels), (test_images, test_labels) = cifar10.load_data()"
   ]
  },
  {
   "cell_type": "markdown",
   "id": "9e014fc6",
   "metadata": {},
   "source": [
    "## Data Analysis\n"
   ]
  },
  {
   "cell_type": "markdown",
   "id": "cf4a77f3",
   "metadata": {},
   "source": [
    "We can see there are 50.000 training images and 10.000 test images"
   ]
  },
  {
   "cell_type": "code",
   "execution_count": 3,
   "id": "8fc9cf48",
   "metadata": {},
   "outputs": [
    {
     "name": "stdout",
     "output_type": "stream",
     "text": [
      "(50000, 32, 32, 3)\n",
      "(50000, 1)\n"
     ]
    }
   ],
   "source": [
    "print(train_images.shape)\n",
    "print(train_labels.shape)"
   ]
  },
  {
   "cell_type": "code",
   "execution_count": 4,
   "id": "3c3d2791",
   "metadata": {},
   "outputs": [
    {
     "name": "stdout",
     "output_type": "stream",
     "text": [
      "(10000, 32, 32, 3)\n",
      "(10000, 1)\n"
     ]
    }
   ],
   "source": [
    "print(test_images.shape)\n",
    "print(test_labels.shape)"
   ]
  },
  {
   "cell_type": "markdown",
   "id": "6768cd5e",
   "metadata": {},
   "source": [
    "Here we can see an example from our train dataset"
   ]
  },
  {
   "cell_type": "code",
   "execution_count": 5,
   "id": "73536d75",
   "metadata": {},
   "outputs": [
    {
     "name": "stdout",
     "output_type": "stream",
     "text": [
      "label: frog\n"
     ]
    },
    {
     "data": {
      "image/png": "[encoded data removed]",
      "text/plain": [
       "<Figure size 432x288 with 1 Axes>"
      ]
     },
     "metadata": {
      "needs_background": "light"
     },
     "output_type": "display_data"
    }
   ],
   "source": [
    "class_names = ['airplane', 'automobile', 'bird', 'cat', 'deer',\n",
    "               'dog', 'frog', 'horse', 'ship', 'truck']\n",
    "index = 0\n",
    "plt.imshow(train_images[index])\n",
    "print(\"label: \" + class_names[int(train_labels[index])])"
   ]
  },
  {
   "cell_type": "markdown",
   "id": "14ff2afa",
   "metadata": {},
   "source": [
    "## Preparing"
   ]
  },
  {
   "cell_type": "code",
   "execution_count": 6,
   "id": "63c19db8",
   "metadata": {},
   "outputs": [],
   "source": [
    "#Divide images with 255 to normalize them between 0 and 1\n",
    "\n",
    "train_images = train_images.astype(\"float32\") / 255.0\n",
    "test_images = test_images.astype(\"float32\") / 255.0"
   ]
  },
  {
   "cell_type": "markdown",
   "id": "86caae91",
   "metadata": {},
   "source": [
    "## Training"
   ]
  },
  {
   "cell_type": "code",
   "execution_count": 7,
   "id": "864ab0f8",
   "metadata": {},
   "outputs": [],
   "source": [
    "#We use the keras sequential model to train our machine learning     \n",
    "\n",
    "model = keras.Sequential(\n",
    "    [\n",
    "        layers.Flatten(input_shape=(32,32,3)),\n",
    "        layers.Dense(300, activation='selu', kernel_initializer='lecun_normal'),\n",
    "        layers.Dropout(0.1),\n",
    "        layers.Dense(300, activation='selu', kernel_initializer='lecun_normal'),\n",
    "        layers.Dropout(0.1),\n",
    "        layers.Dense(300, activation='selu', kernel_initializer='lecun_normal'),\n",
    "        layers.Dropout(0.1),\n",
    "        layers.Dense(10, activation='softmax'),\n",
    "    ]\n",
    ")"
   ]
  },
  {
   "cell_type": "code",
   "execution_count": 8,
   "id": "9ca7f3f0",
   "metadata": {},
   "outputs": [
    {
     "name": "stdout",
     "output_type": "stream",
     "text": [
      "Model: \"sequential\"\n",
      "_________________________________________________________________\n",
      " Layer (type)                Output Shape              Param #   \n",
      "=================================================================\n",
      " flatten (Flatten)           (None, 3072)              0         \n",
      "                                                                 \n",
      " dense (Dense)               (None, 300)               921900    \n",
      "                                                                 \n",
      " dropout (Dropout)           (None, 300)               0         \n",
      "                                                                 \n",
      " dense_1 (Dense)             (None, 300)               90300     \n",
      "                                                                 \n",
      " dropout_1 (Dropout)         (None, 300)               0         \n",
      "                                                                 \n",
      " dense_2 (Dense)             (None, 300)               90300     \n",
      "                                                                 \n",
      " dropout_2 (Dropout)         (None, 300)               0         \n",
      "                                                                 \n",
      " dense_3 (Dense)             (None, 10)                3010      \n",
      "                                                                 \n",
      "=================================================================\n",
      "Total params: 1,105,510\n",
      "Trainable params: 1,105,510\n",
      "Non-trainable params: 0\n",
      "_________________________________________________________________\n"
     ]
    }
   ],
   "source": [
    "#Gives us a summary of our model\n",
    "\n",
    "model.summary()"
   ]
  },
  {
   "cell_type": "code",
   "execution_count": 9,
   "id": "2309c1cd",
   "metadata": {},
   "outputs": [],
   "source": [
    "#Compile our model\n",
    "\n",
    "model.compile(\n",
    "    optimizer=tf.keras.optimizers.SGD(momentum=0.9),\n",
    "    loss=tf.keras.losses.SparseCategoricalCrossentropy(from_logits=False),\n",
    "    metrics=['accuracy'],\n",
    ")"
   ]
  },
  {
   "cell_type": "code",
   "execution_count": 10,
   "id": "24c8a538",
   "metadata": {},
   "outputs": [],
   "source": [
    "#Defining callbacks\n",
    "\n",
    "early_stopping = keras.callbacks.EarlyStopping(patience=10, restore_best_weights=True)\n",
    "\n",
    "learning_rate_scheduling = keras.callbacks.ReduceLROnPlateau(factor=0.4, patience=4)"
   ]
  },
  {
   "cell_type": "code",
   "execution_count": 11,
   "id": "700ce286",
   "metadata": {},
   "outputs": [
    {
     "name": "stdout",
     "output_type": "stream",
     "text": [
      "Epoch 1/100\n",
      "782/782 [==============================] - 5s 6ms/step - loss: 2.3120 - accuracy: 0.2503 - val_loss: 1.9243 - val_accuracy: 0.2958 - lr: 0.0100\n",
      "Epoch 2/100\n",
      "782/782 [==============================] - 4s 5ms/step - loss: 1.8545 - accuracy: 0.3370 - val_loss: 1.7873 - val_accuracy: 0.3655 - lr: 0.0100\n",
      "Epoch 3/100\n",
      "782/782 [==============================] - 4s 5ms/step - loss: 1.7832 - accuracy: 0.3637 - val_loss: 1.6857 - val_accuracy: 0.3955 - lr: 0.0100\n",
      "Epoch 4/100\n",
      "782/782 [==============================] - 4s 5ms/step - loss: 1.7392 - accuracy: 0.3810 - val_loss: 1.6483 - val_accuracy: 0.4087 - lr: 0.0100\n",
      "Epoch 5/100\n",
      "782/782 [==============================] - 4s 5ms/step - loss: 1.6863 - accuracy: 0.4015 - val_loss: 1.6422 - val_accuracy: 0.4106 - lr: 0.0100\n",
      "Epoch 6/100\n",
      "782/782 [==============================] - 4s 5ms/step - loss: 1.6536 - accuracy: 0.4099 - val_loss: 1.6041 - val_accuracy: 0.4269 - lr: 0.0100\n",
      "Epoch 7/100\n",
      "782/782 [==============================] - 4s 5ms/step - loss: 1.6193 - accuracy: 0.4272 - val_loss: 1.5976 - val_accuracy: 0.4350 - lr: 0.0100\n",
      "Epoch 8/100\n",
      "782/782 [==============================] - 4s 5ms/step - loss: 1.6048 - accuracy: 0.4261 - val_loss: 1.5679 - val_accuracy: 0.4310 - lr: 0.0100\n",
      "Epoch 9/100\n",
      "782/782 [==============================] - 4s 5ms/step - loss: 1.5857 - accuracy: 0.4359 - val_loss: 1.5843 - val_accuracy: 0.4504 - lr: 0.0100\n",
      "Epoch 10/100\n",
      "782/782 [==============================] - 4s 5ms/step - loss: 1.5628 - accuracy: 0.4446 - val_loss: 1.5461 - val_accuracy: 0.4612 - lr: 0.0100\n",
      "Epoch 11/100\n",
      "782/782 [==============================] - 4s 5ms/step - loss: 1.5463 - accuracy: 0.4509 - val_loss: 1.4691 - val_accuracy: 0.4761 - lr: 0.0100\n",
      "Epoch 12/100\n",
      "782/782 [==============================] - 4s 5ms/step - loss: 1.5372 - accuracy: 0.4565 - val_loss: 1.4795 - val_accuracy: 0.4787 - lr: 0.0100\n",
      "Epoch 13/100\n",
      "782/782 [==============================] - 4s 5ms/step - loss: 1.5143 - accuracy: 0.4628 - val_loss: 1.4553 - val_accuracy: 0.4816 - lr: 0.0100\n",
      "Epoch 14/100\n",
      "782/782 [==============================] - 4s 6ms/step - loss: 1.5003 - accuracy: 0.4687 - val_loss: 1.6498 - val_accuracy: 0.4335 - lr: 0.0100\n",
      "Epoch 15/100\n",
      "782/782 [==============================] - 4s 6ms/step - loss: 1.4826 - accuracy: 0.4747 - val_loss: 1.5105 - val_accuracy: 0.4625 - lr: 0.0100\n",
      "Epoch 16/100\n",
      "782/782 [==============================] - 4s 5ms/step - loss: 1.4775 - accuracy: 0.4802 - val_loss: 1.4683 - val_accuracy: 0.4805 - lr: 0.0100\n",
      "Epoch 17/100\n",
      "782/782 [==============================] - 5s 6ms/step - loss: 1.4549 - accuracy: 0.4865 - val_loss: 1.4619 - val_accuracy: 0.4782 - lr: 0.0100\n",
      "Epoch 18/100\n",
      "782/782 [==============================] - 5s 6ms/step - loss: 1.3076 - accuracy: 0.5320 - val_loss: 1.3491 - val_accuracy: 0.5179 - lr: 0.0040\n",
      "Epoch 19/100\n",
      "782/782 [==============================] - 4s 6ms/step - loss: 1.2779 - accuracy: 0.5433 - val_loss: 1.3011 - val_accuracy: 0.5338 - lr: 0.0040\n",
      "Epoch 20/100\n",
      "782/782 [==============================] - 4s 6ms/step - loss: 1.2711 - accuracy: 0.5439 - val_loss: 1.3378 - val_accuracy: 0.5225 - lr: 0.0040\n",
      "Epoch 21/100\n",
      "782/782 [==============================] - 5s 6ms/step - loss: 1.2673 - accuracy: 0.5456 - val_loss: 1.3162 - val_accuracy: 0.5300 - lr: 0.0040\n",
      "Epoch 22/100\n",
      "782/782 [==============================] - 4s 5ms/step - loss: 1.2531 - accuracy: 0.5514 - val_loss: 1.3325 - val_accuracy: 0.5269 - lr: 0.0040\n",
      "Epoch 23/100\n",
      "782/782 [==============================] - 4s 6ms/step - loss: 1.2512 - accuracy: 0.5499 - val_loss: 1.3050 - val_accuracy: 0.5342 - lr: 0.0040\n",
      "Epoch 24/100\n",
      "782/782 [==============================] - 4s 6ms/step - loss: 1.1866 - accuracy: 0.5751 - val_loss: 1.2613 - val_accuracy: 0.5518 - lr: 0.0016\n",
      "Epoch 25/100\n",
      "782/782 [==============================] - 4s 5ms/step - loss: 1.1756 - accuracy: 0.5801 - val_loss: 1.2584 - val_accuracy: 0.5511 - lr: 0.0016\n",
      "Epoch 26/100\n",
      "782/782 [==============================] - 4s 5ms/step - loss: 1.1726 - accuracy: 0.5819 - val_loss: 1.2587 - val_accuracy: 0.5507 - lr: 0.0016\n",
      "Epoch 27/100\n",
      "782/782 [==============================] - 4s 6ms/step - loss: 1.1617 - accuracy: 0.5833 - val_loss: 1.2642 - val_accuracy: 0.5491 - lr: 0.0016\n",
      "Epoch 28/100\n",
      "782/782 [==============================] - 4s 6ms/step - loss: 1.1642 - accuracy: 0.5840 - val_loss: 1.2553 - val_accuracy: 0.5530 - lr: 0.0016\n",
      "Epoch 29/100\n",
      "782/782 [==============================] - 4s 5ms/step - loss: 1.1596 - accuracy: 0.5840 - val_loss: 1.2640 - val_accuracy: 0.5523 - lr: 0.0016\n",
      "Epoch 30/100\n",
      "782/782 [==============================] - 4s 5ms/step - loss: 1.1554 - accuracy: 0.5863 - val_loss: 1.2545 - val_accuracy: 0.5538 - lr: 0.0016\n",
      "Epoch 31/100\n",
      "782/782 [==============================] - 4s 5ms/step - loss: 1.1527 - accuracy: 0.5875 - val_loss: 1.2675 - val_accuracy: 0.5554 - lr: 0.0016\n",
      "Epoch 32/100\n",
      "782/782 [==============================] - 4s 5ms/step - loss: 1.1450 - accuracy: 0.5897 - val_loss: 1.2682 - val_accuracy: 0.5522 - lr: 0.0016\n",
      "Epoch 33/100\n",
      "782/782 [==============================] - 5s 6ms/step - loss: 1.1451 - accuracy: 0.5903 - val_loss: 1.2531 - val_accuracy: 0.5531 - lr: 0.0016\n",
      "Epoch 34/100\n",
      "782/782 [==============================] - 5s 6ms/step - loss: 1.1411 - accuracy: 0.5901 - val_loss: 1.2558 - val_accuracy: 0.5554 - lr: 0.0016\n",
      "Epoch 35/100\n",
      "782/782 [==============================] - 4s 6ms/step - loss: 1.1383 - accuracy: 0.5905 - val_loss: 1.2515 - val_accuracy: 0.5608 - lr: 0.0016\n",
      "Epoch 36/100\n",
      "782/782 [==============================] - 4s 6ms/step - loss: 1.1316 - accuracy: 0.5931 - val_loss: 1.2469 - val_accuracy: 0.5565 - lr: 0.0016\n",
      "Epoch 37/100\n",
      "782/782 [==============================] - 4s 6ms/step - loss: 1.1274 - accuracy: 0.5959 - val_loss: 1.2615 - val_accuracy: 0.5489 - lr: 0.0016\n",
      "Epoch 38/100\n",
      "782/782 [==============================] - 5s 6ms/step - loss: 1.1275 - accuracy: 0.5950 - val_loss: 1.2507 - val_accuracy: 0.5613 - lr: 0.0016\n",
      "Epoch 39/100\n",
      "782/782 [==============================] - 5s 6ms/step - loss: 1.1244 - accuracy: 0.5966 - val_loss: 1.2519 - val_accuracy: 0.5583 - lr: 0.0016\n",
      "Epoch 40/100\n",
      "782/782 [==============================] - 4s 6ms/step - loss: 1.1190 - accuracy: 0.5997 - val_loss: 1.2463 - val_accuracy: 0.5592 - lr: 0.0016\n",
      "Epoch 41/100\n",
      "782/782 [==============================] - 5s 6ms/step - loss: 1.1131 - accuracy: 0.5994 - val_loss: 1.2538 - val_accuracy: 0.5575 - lr: 0.0016\n",
      "Epoch 42/100\n",
      "782/782 [==============================] - 4s 5ms/step - loss: 1.1111 - accuracy: 0.6010 - val_loss: 1.2435 - val_accuracy: 0.5557 - lr: 0.0016\n",
      "Epoch 43/100\n",
      "782/782 [==============================] - 4s 6ms/step - loss: 1.1135 - accuracy: 0.6016 - val_loss: 1.2386 - val_accuracy: 0.5618 - lr: 0.0016\n",
      "Epoch 44/100\n",
      "782/782 [==============================] - 5s 6ms/step - loss: 1.1065 - accuracy: 0.6015 - val_loss: 1.2458 - val_accuracy: 0.5621 - lr: 0.0016\n",
      "Epoch 45/100\n",
      "782/782 [==============================] - 4s 6ms/step - loss: 1.0980 - accuracy: 0.6067 - val_loss: 1.2444 - val_accuracy: 0.5592 - lr: 0.0016\n",
      "Epoch 46/100\n",
      "782/782 [==============================] - 4s 6ms/step - loss: 1.0965 - accuracy: 0.6081 - val_loss: 1.2546 - val_accuracy: 0.5640 - lr: 0.0016\n",
      "Epoch 47/100\n",
      "782/782 [==============================] - 5s 6ms/step - loss: 1.0946 - accuracy: 0.6062 - val_loss: 1.2412 - val_accuracy: 0.5629 - lr: 0.0016\n",
      "Epoch 48/100\n",
      "782/782 [==============================] - 4s 6ms/step - loss: 1.0707 - accuracy: 0.6162 - val_loss: 1.2248 - val_accuracy: 0.5663 - lr: 6.4000e-04\n",
      "Epoch 49/100\n",
      "782/782 [==============================] - 5s 6ms/step - loss: 1.0643 - accuracy: 0.6195 - val_loss: 1.2281 - val_accuracy: 0.5666 - lr: 6.4000e-04\n",
      "Epoch 50/100\n",
      "782/782 [==============================] - 4s 6ms/step - loss: 1.0581 - accuracy: 0.6192 - val_loss: 1.2305 - val_accuracy: 0.5656 - lr: 6.4000e-04\n",
      "Epoch 51/100\n",
      "782/782 [==============================] - 4s 6ms/step - loss: 1.0500 - accuracy: 0.6233 - val_loss: 1.2229 - val_accuracy: 0.5692 - lr: 6.4000e-04\n",
      "Epoch 52/100\n",
      "782/782 [==============================] - 4s 5ms/step - loss: 1.0542 - accuracy: 0.6230 - val_loss: 1.2243 - val_accuracy: 0.5704 - lr: 6.4000e-04\n",
      "Epoch 53/100\n"
     ]
    },
    {
     "name": "stdout",
     "output_type": "stream",
     "text": [
      "782/782 [==============================] - 4s 6ms/step - loss: 1.0535 - accuracy: 0.6233 - val_loss: 1.2208 - val_accuracy: 0.5704 - lr: 6.4000e-04\n",
      "Epoch 54/100\n",
      "782/782 [==============================] - 4s 6ms/step - loss: 1.0543 - accuracy: 0.6217 - val_loss: 1.2236 - val_accuracy: 0.5703 - lr: 6.4000e-04\n",
      "Epoch 55/100\n",
      "782/782 [==============================] - 5s 6ms/step - loss: 1.0491 - accuracy: 0.6256 - val_loss: 1.2173 - val_accuracy: 0.5706 - lr: 6.4000e-04\n",
      "Epoch 56/100\n",
      "782/782 [==============================] - 5s 6ms/step - loss: 1.0468 - accuracy: 0.6249 - val_loss: 1.2211 - val_accuracy: 0.5672 - lr: 6.4000e-04\n",
      "Epoch 57/100\n",
      "782/782 [==============================] - 4s 5ms/step - loss: 1.0424 - accuracy: 0.6254 - val_loss: 1.2231 - val_accuracy: 0.5707 - lr: 6.4000e-04\n",
      "Epoch 58/100\n",
      "782/782 [==============================] - 4s 5ms/step - loss: 1.0437 - accuracy: 0.6268 - val_loss: 1.2197 - val_accuracy: 0.5699 - lr: 6.4000e-04\n",
      "Epoch 59/100\n",
      "782/782 [==============================] - 4s 5ms/step - loss: 1.0428 - accuracy: 0.6266 - val_loss: 1.2210 - val_accuracy: 0.5690 - lr: 6.4000e-04\n",
      "Epoch 60/100\n",
      "782/782 [==============================] - 4s 6ms/step - loss: 1.0273 - accuracy: 0.6322 - val_loss: 1.2184 - val_accuracy: 0.5704 - lr: 2.5600e-04\n",
      "Epoch 61/100\n",
      "782/782 [==============================] - 4s 5ms/step - loss: 1.0267 - accuracy: 0.6339 - val_loss: 1.2146 - val_accuracy: 0.5700 - lr: 2.5600e-04\n",
      "Epoch 62/100\n",
      "782/782 [==============================] - 4s 6ms/step - loss: 1.0276 - accuracy: 0.6307 - val_loss: 1.2191 - val_accuracy: 0.5697 - lr: 2.5600e-04\n",
      "Epoch 63/100\n",
      "782/782 [==============================] - 4s 6ms/step - loss: 1.0259 - accuracy: 0.6313 - val_loss: 1.2149 - val_accuracy: 0.5721 - lr: 2.5600e-04\n",
      "Epoch 64/100\n",
      "782/782 [==============================] - 4s 5ms/step - loss: 1.0249 - accuracy: 0.6323 - val_loss: 1.2173 - val_accuracy: 0.5733 - lr: 2.5600e-04\n",
      "Epoch 65/100\n",
      "782/782 [==============================] - 4s 5ms/step - loss: 1.0196 - accuracy: 0.6342 - val_loss: 1.2180 - val_accuracy: 0.5725 - lr: 2.5600e-04\n",
      "Epoch 66/100\n",
      "782/782 [==============================] - 4s 5ms/step - loss: 1.0165 - accuracy: 0.6333 - val_loss: 1.2146 - val_accuracy: 0.5714 - lr: 1.0240e-04\n",
      "Epoch 67/100\n",
      "782/782 [==============================] - 4s 5ms/step - loss: 1.0181 - accuracy: 0.6351 - val_loss: 1.2138 - val_accuracy: 0.5732 - lr: 1.0240e-04\n",
      "Epoch 68/100\n",
      "782/782 [==============================] - 5s 6ms/step - loss: 1.0168 - accuracy: 0.6352 - val_loss: 1.2136 - val_accuracy: 0.5732 - lr: 1.0240e-04\n",
      "Epoch 69/100\n",
      "782/782 [==============================] - 4s 6ms/step - loss: 1.0140 - accuracy: 0.6361 - val_loss: 1.2149 - val_accuracy: 0.5731 - lr: 1.0240e-04\n",
      "Epoch 70/100\n",
      "782/782 [==============================] - 5s 6ms/step - loss: 1.0151 - accuracy: 0.6366 - val_loss: 1.2143 - val_accuracy: 0.5725 - lr: 1.0240e-04\n",
      "Epoch 71/100\n",
      "782/782 [==============================] - 5s 6ms/step - loss: 1.0137 - accuracy: 0.6362 - val_loss: 1.2130 - val_accuracy: 0.5728 - lr: 1.0240e-04\n",
      "Epoch 72/100\n",
      "782/782 [==============================] - 5s 6ms/step - loss: 1.0150 - accuracy: 0.6365 - val_loss: 1.2145 - val_accuracy: 0.5738 - lr: 1.0240e-04\n",
      "Epoch 73/100\n",
      "782/782 [==============================] - 5s 6ms/step - loss: 1.0167 - accuracy: 0.6348 - val_loss: 1.2136 - val_accuracy: 0.5716 - lr: 1.0240e-04\n",
      "Epoch 74/100\n",
      "782/782 [==============================] - 5s 6ms/step - loss: 1.0178 - accuracy: 0.6344 - val_loss: 1.2137 - val_accuracy: 0.5731 - lr: 1.0240e-04\n",
      "Epoch 75/100\n",
      "782/782 [==============================] - 5s 6ms/step - loss: 1.0145 - accuracy: 0.6363 - val_loss: 1.2141 - val_accuracy: 0.5727 - lr: 1.0240e-04\n",
      "Epoch 76/100\n",
      "782/782 [==============================] - 5s 6ms/step - loss: 1.0098 - accuracy: 0.6422 - val_loss: 1.2140 - val_accuracy: 0.5723 - lr: 4.0960e-05\n",
      "Epoch 77/100\n",
      "782/782 [==============================] - 4s 6ms/step - loss: 1.0124 - accuracy: 0.6393 - val_loss: 1.2129 - val_accuracy: 0.5716 - lr: 4.0960e-05\n",
      "Epoch 78/100\n",
      "782/782 [==============================] - 4s 5ms/step - loss: 1.0119 - accuracy: 0.6376 - val_loss: 1.2123 - val_accuracy: 0.5718 - lr: 4.0960e-05\n",
      "Epoch 79/100\n",
      "782/782 [==============================] - 4s 6ms/step - loss: 1.0100 - accuracy: 0.6381 - val_loss: 1.2114 - val_accuracy: 0.5712 - lr: 4.0960e-05\n",
      "Epoch 80/100\n",
      "782/782 [==============================] - 4s 5ms/step - loss: 1.0140 - accuracy: 0.6384 - val_loss: 1.2132 - val_accuracy: 0.5721 - lr: 4.0960e-05\n",
      "Epoch 81/100\n",
      "782/782 [==============================] - 4s 5ms/step - loss: 1.0130 - accuracy: 0.6379 - val_loss: 1.2141 - val_accuracy: 0.5734 - lr: 4.0960e-05\n",
      "Epoch 82/100\n",
      "782/782 [==============================] - 4s 5ms/step - loss: 1.0134 - accuracy: 0.6377 - val_loss: 1.2135 - val_accuracy: 0.5726 - lr: 4.0960e-05\n",
      "Epoch 83/100\n",
      "782/782 [==============================] - 5s 6ms/step - loss: 1.0093 - accuracy: 0.6400 - val_loss: 1.2128 - val_accuracy: 0.5721 - lr: 4.0960e-05\n",
      "Epoch 84/100\n",
      "782/782 [==============================] - 5s 6ms/step - loss: 1.0088 - accuracy: 0.6398 - val_loss: 1.2126 - val_accuracy: 0.5719 - lr: 1.6384e-05\n",
      "Epoch 85/100\n",
      "782/782 [==============================] - 4s 6ms/step - loss: 1.0053 - accuracy: 0.6408 - val_loss: 1.2129 - val_accuracy: 0.5730 - lr: 1.6384e-05\n",
      "Epoch 86/100\n",
      "782/782 [==============================] - 4s 6ms/step - loss: 1.0094 - accuracy: 0.6375 - val_loss: 1.2125 - val_accuracy: 0.5728 - lr: 1.6384e-05\n",
      "Epoch 87/100\n",
      "782/782 [==============================] - 4s 5ms/step - loss: 1.0112 - accuracy: 0.6396 - val_loss: 1.2121 - val_accuracy: 0.5732 - lr: 1.6384e-05\n",
      "Epoch 88/100\n",
      "782/782 [==============================] - 4s 5ms/step - loss: 1.0098 - accuracy: 0.6373 - val_loss: 1.2121 - val_accuracy: 0.5721 - lr: 6.5536e-06\n",
      "Epoch 89/100\n",
      "782/782 [==============================] - 4s 5ms/step - loss: 1.0093 - accuracy: 0.6375 - val_loss: 1.2124 - val_accuracy: 0.5728 - lr: 6.5536e-06\n"
     ]
    }
   ],
   "source": [
    "#Train our model with specified parameters\n",
    "\n",
    "history = model.fit(train_images, train_labels, batch_size=64, epochs=100, verbose=1,\n",
    "                    validation_data=(test_images, test_labels),\n",
    "                    callbacks=[early_stopping, learning_rate_scheduling])"
   ]
  },
  {
   "cell_type": "markdown",
   "id": "3133867c",
   "metadata": {},
   "source": [
    "## Evaluation"
   ]
  },
  {
   "cell_type": "code",
   "execution_count": 12,
   "id": "1d8ce73a",
   "metadata": {},
   "outputs": [
    {
     "data": {
      "text/plain": [
       "<matplotlib.legend.Legend at 0x1c3e5d408b0>"
      ]
     },
     "execution_count": 12,
     "metadata": {},
     "output_type": "execute_result"
    },
    {
     "data": {
      "image/png": "[encoded data removed]",
      "text/plain": [
       "<Figure size 432x288 with 1 Axes>"
      ]
     },
     "metadata": {
      "needs_background": "light"
     },
     "output_type": "display_data"
    }
   ],
   "source": [
    "#Create graph using matplotlib\n",
    "\n",
    "plt.plot(history.history['accuracy'], label='accuracy')\n",
    "plt.plot(history.history['val_accuracy'], label = 'val_accuracy')\n",
    "plt.xlabel('Epoch')\n",
    "plt.ylabel('Accuracy')\n",
    "plt.ylim([0.5, 1])\n",
    "plt.legend(loc='lower right')"
   ]
  },
  {
   "cell_type": "code",
   "execution_count": 13,
   "id": "d74c35e5",
   "metadata": {},
   "outputs": [
    {
     "name": "stdout",
     "output_type": "stream",
     "text": [
      "157/157 - 0s - loss: 1.2114 - accuracy: 0.5712 - 446ms/epoch - 3ms/step\n"
     ]
    },
    {
     "data": {
      "text/plain": [
       "[1.2114073038101196, 0.5712000131607056]"
      ]
     },
     "execution_count": 13,
     "metadata": {},
     "output_type": "execute_result"
    }
   ],
   "source": [
    "#Evaluate the model using the test dataset\n",
    "\n",
    "model.evaluate(test_images, test_labels, batch_size=64, verbose=2)"
   ]
  },
  {
   "cell_type": "markdown",
   "id": "daef521e",
   "metadata": {},
   "source": [
    "## Prediction"
   ]
  },
  {
   "cell_type": "code",
   "execution_count": 14,
   "id": "267a1c42",
   "metadata": {},
   "outputs": [
    {
     "name": "stdout",
     "output_type": "stream",
     "text": [
      "expected: cat\n",
      "actual: cat\n"
     ]
    },
    {
     "data": {
      "image/png": "[encoded data removed]",
      "text/plain": [
       "<Figure size 432x288 with 1 Axes>"
      ]
     },
     "metadata": {
      "needs_background": "light"
     },
     "output_type": "display_data"
    }
   ],
   "source": [
    "#Prediction to see if our model is accurate\n",
    "\n",
    "pred_label = model.predict(test_images)\n",
    "\n",
    "index = 0\n",
    "plt.imshow(test_images[index])\n",
    "print(\"expected: \" + class_names[pred_label[index].argmax()])\n",
    "print(\"actual: \" + class_names[int(test_labels[index])])"
   ]
  },
  {
   "cell_type": "code",
   "execution_count": null,
   "id": "84aa5152",
   "metadata": {},
   "outputs": [],
   "source": []
  }
 ],
 "metadata": {
  "kernelspec": {
   "display_name": "Python 3 (ipykernel)",
   "language": "python",
   "name": "python3"
  },
  "language_info": {
   "codemirror_mode": {
    "name": "ipython",
    "version": 3
   },
   "file_extension": ".py",
   "mimetype": "text/x-python",
   "name": "python",
   "nbconvert_exporter": "python",
   "pygments_lexer": "ipython3",
   "version": "3.9.9"
  }
 },
 "nbformat": 4,
 "nbformat_minor": 5
}
