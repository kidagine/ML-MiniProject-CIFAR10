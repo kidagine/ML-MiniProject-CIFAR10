{
 "cells": [
  {
   "cell_type": "markdown",
   "id": "c4feea48",
   "metadata": {},
   "source": [
    "## CIFAR10"
   ]
  },
  {
   "cell_type": "markdown",
   "id": "f7c8f9a4",
   "metadata": {},
   "source": [
    "<table align=\"left\">\n",
    "  <td>\n",
    "    <a target=\"_blank\" href=\"https://colab.research.google.com/drive/1I2aWD5twJdrq0SI2QD91HB5zCvvvCE_i\">\n",
    "    <img src=\"https://www.tensorflow.org/images/colab_logo_32px.png\" />Run in Google Colab</a>\n",
    "  </td>\n",
    "</table>"
   ]
  },
  {
   "cell_type": "markdown",
   "id": "4b7b3b2a",
   "metadata": {},
   "source": [
    "# CIFAR10 Dataset\n",
    "\n",
    "The CIFAR-10 dataset consists of 60000 32x32 colour images in 10 classes, with 6000 images per class. There are 50000 training images and 10000 test images.\n",
    "\n",
    "The dataset is divided into five training batches and one test batch, each with 10000 images. The test batch contains exactly 1000 randomly-selected images from each class. The training batches contain the remaining images in random order, but some training batches may contain more images from one class than another. Between them, the training batches contain exactly 5000 images from each class.\n",
    "\n",
    "We want to train a machine learning model to classify examples with the correct label based on the images.\n",
    "![title](CIFAR10.jpg)"
   ]
  },
  {
   "cell_type": "markdown",
   "id": "09f98a5d",
   "metadata": {},
   "source": [
    "# Setup"
   ]
  },
  {
   "cell_type": "code",
   "execution_count": 1,
   "id": "28b1d07d",
   "metadata": {},
   "outputs": [],
   "source": [
    "#Importing essential libraries\n",
    "\n",
    "import tensorflow as tf\n",
    "from tensorflow import keras\n",
    "from tensorflow.keras import layers\n",
    "from tensorflow.keras.datasets import cifar10\n",
    "import matplotlib.pyplot as plt"
   ]
  },
  {
   "cell_type": "markdown",
   "id": "3d511222",
   "metadata": {},
   "source": [
    "## Loading"
   ]
  },
  {
   "cell_type": "code",
   "execution_count": 2,
   "id": "344235a6",
   "metadata": {},
   "outputs": [],
   "source": [
    "#Loading dataset using tenserflow keras datasets\n",
    "\n",
    "(train_images, train_labels), (test_images, test_labels) = cifar10.load_data()"
   ]
  },
  {
   "cell_type": "markdown",
   "id": "9e014fc6",
   "metadata": {},
   "source": [
    "## Data Analysis\n"
   ]
  },
  {
   "cell_type": "markdown",
   "id": "cf4a77f3",
   "metadata": {},
   "source": [
    "We can see there are 50.000 training images and 10.000 test images"
   ]
  },
  {
   "cell_type": "code",
   "execution_count": 3,
   "id": "8fc9cf48",
   "metadata": {},
   "outputs": [
    {
     "name": "stdout",
     "output_type": "stream",
     "text": [
      "(50000, 32, 32, 3)\n",
      "(50000, 1)\n"
     ]
    }
   ],
   "source": [
    "print(train_images.shape)\n",
    "print(train_labels.shape)"
   ]
  },
  {
   "cell_type": "code",
   "execution_count": 4,
   "id": "3c3d2791",
   "metadata": {},
   "outputs": [
    {
     "name": "stdout",
     "output_type": "stream",
     "text": [
      "(10000, 32, 32, 3)\n",
      "(10000, 1)\n"
     ]
    }
   ],
   "source": [
    "print(test_images.shape)\n",
    "print(test_labels.shape)"
   ]
  },
  {
   "cell_type": "markdown",
   "id": "6768cd5e",
   "metadata": {},
   "source": [
    "Here we can see an example from our train dataset"
   ]
  },
  {
   "cell_type": "code",
   "execution_count": 5,
   "id": "73536d75",
   "metadata": {},
   "outputs": [
    {
     "name": "stdout",
     "output_type": "stream",
     "text": [
      "label: frog\n"
     ]
    },
    {
     "data": {
      "image/png": "[encoded data removed]",
      "text/plain": [
       "<Figure size 432x288 with 1 Axes>"
      ]
     },
     "metadata": {
      "needs_background": "light"
     },
     "output_type": "display_data"
    }
   ],
   "source": [
    "class_names = ['airplane', 'automobile', 'bird', 'cat', 'deer',\n",
    "               'dog', 'frog', 'horse', 'ship', 'truck']\n",
    "index = 0\n",
    "plt.imshow(train_images[index])\n",
    "print(\"label: \" + class_names[int(train_labels[index])])"
   ]
  },
  {
   "cell_type": "markdown",
   "id": "14ff2afa",
   "metadata": {},
   "source": [
    "## Preparing"
   ]
  },
  {
   "cell_type": "code",
   "execution_count": 6,
   "id": "63c19db8",
   "metadata": {},
   "outputs": [],
   "source": [
    "#Divide images with 255 to normalize them between 0 and 1\n",
    "\n",
    "train_images = train_images.astype(\"float32\") / 255.0\n",
    "test_images = test_images.astype(\"float32\") / 255.0"
   ]
  },
  {
   "cell_type": "markdown",
   "id": "86caae91",
   "metadata": {},
   "source": [
    "## Training"
   ]
  },
  {
   "cell_type": "code",
   "execution_count": 7,
   "id": "864ab0f8",
   "metadata": {},
   "outputs": [],
   "source": [
    "#We use the keras sequential model to train our machine learning     \n",
    "\n",
    "model = keras.Sequential(\n",
    "    [\n",
    "        layers.Flatten(input_shape=(32,32,3)),\n",
    "        layers.Dense(300, activation='selu', kernel_initializer='lecun_normal'),\n",
    "        layers.Dense(300, activation='selu', kernel_initializer='lecun_normal'),\n",
    "        layers.Dense(300, activation='selu', kernel_initializer='lecun_normal'),\n",
    "        layers.Dropout(0.2),\n",
    "        layers.Dense(10, activation='softmax'),\n",
    "    ]\n",
    ")"
   ]
  },
  {
   "cell_type": "code",
   "execution_count": 8,
   "id": "9ca7f3f0",
   "metadata": {},
   "outputs": [
    {
     "name": "stdout",
     "output_type": "stream",
     "text": [
      "Model: \"sequential\"\n",
      "_________________________________________________________________\n",
      " Layer (type)                Output Shape              Param #   \n",
      "=================================================================\n",
      " flatten (Flatten)           (None, 3072)              0         \n",
      "                                                                 \n",
      " dense (Dense)               (None, 300)               921900    \n",
      "                                                                 \n",
      " dense_1 (Dense)             (None, 300)               90300     \n",
      "                                                                 \n",
      " dense_2 (Dense)             (None, 300)               90300     \n",
      "                                                                 \n",
      " dropout (Dropout)           (None, 300)               0         \n",
      "                                                                 \n",
      " dense_3 (Dense)             (None, 10)                3010      \n",
      "                                                                 \n",
      "=================================================================\n",
      "Total params: 1,105,510\n",
      "Trainable params: 1,105,510\n",
      "Non-trainable params: 0\n",
      "_________________________________________________________________\n"
     ]
    }
   ],
   "source": [
    "#Gives us a summary of our model\n",
    "\n",
    "model.summary()"
   ]
  },
  {
   "cell_type": "code",
   "execution_count": 9,
   "id": "2309c1cd",
   "metadata": {},
   "outputs": [],
   "source": [
    "#Compile our model\n",
    "\n",
    "model.compile(\n",
    "    optimizer=tf.keras.optimizers.SGD(momentum=0.9),\n",
    "    loss=tf.keras.losses.SparseCategoricalCrossentropy(from_logits=False),\n",
    "    metrics=['accuracy'],\n",
    ")"
   ]
  },
  {
   "cell_type": "code",
   "execution_count": 10,
   "id": "24c8a538",
   "metadata": {},
   "outputs": [],
   "source": [
    "#Defining callbacks\n",
    "\n",
    "early_stopping = keras.callbacks.EarlyStopping(patience=10, restore_best_weights=True)\n",
    "\n",
    "learning_rate_scheduling = keras.callbacks.ReduceLROnPlateau(factor=0.4, patience=4)"
   ]
  },
  {
   "cell_type": "code",
   "execution_count": 11,
   "id": "700ce286",
   "metadata": {},
   "outputs": [
    {
     "name": "stdout",
     "output_type": "stream",
     "text": [
      "Epoch 1/50\n",
      "782/782 [==============================] - 5s 6ms/step - loss: 2.2524 - accuracy: 0.2737 - val_loss: 1.8607 - val_accuracy: 0.3246 - lr: 0.0100\n",
      "Epoch 2/50\n",
      "782/782 [==============================] - 5s 6ms/step - loss: 1.7903 - accuracy: 0.3600 - val_loss: 1.6535 - val_accuracy: 0.4092 - lr: 0.0100\n",
      "Epoch 3/50\n",
      "782/782 [==============================] - 4s 5ms/step - loss: 1.7007 - accuracy: 0.3926 - val_loss: 1.6367 - val_accuracy: 0.4161 - lr: 0.0100\n",
      "Epoch 4/50\n",
      "782/782 [==============================] - 4s 5ms/step - loss: 1.6508 - accuracy: 0.4117 - val_loss: 1.6320 - val_accuracy: 0.4142 - lr: 0.0100\n",
      "Epoch 5/50\n",
      "782/782 [==============================] - 4s 5ms/step - loss: 1.6065 - accuracy: 0.4281 - val_loss: 1.6050 - val_accuracy: 0.4475 - lr: 0.0100\n",
      "Epoch 6/50\n",
      "782/782 [==============================] - 4s 6ms/step - loss: 1.5782 - accuracy: 0.4382 - val_loss: 1.5900 - val_accuracy: 0.4386 - lr: 0.0100\n",
      "Epoch 7/50\n",
      "782/782 [==============================] - 4s 5ms/step - loss: 1.5484 - accuracy: 0.4516 - val_loss: 1.5424 - val_accuracy: 0.4606 - lr: 0.0100\n",
      "Epoch 8/50\n",
      "782/782 [==============================] - 5s 6ms/step - loss: 1.5162 - accuracy: 0.4613 - val_loss: 1.5628 - val_accuracy: 0.4534 - lr: 0.0100\n",
      "Epoch 9/50\n",
      "782/782 [==============================] - 5s 6ms/step - loss: 1.4935 - accuracy: 0.4730 - val_loss: 1.6253 - val_accuracy: 0.4444 - lr: 0.0100\n",
      "Epoch 10/50\n",
      "782/782 [==============================] - 5s 6ms/step - loss: 1.4726 - accuracy: 0.4773 - val_loss: 1.4412 - val_accuracy: 0.4882 - lr: 0.0100\n",
      "Epoch 11/50\n",
      "782/782 [==============================] - 4s 5ms/step - loss: 1.4467 - accuracy: 0.4874 - val_loss: 1.4812 - val_accuracy: 0.4740 - lr: 0.0100\n",
      "Epoch 12/50\n",
      "782/782 [==============================] - 4s 5ms/step - loss: 1.4303 - accuracy: 0.4944 - val_loss: 1.5876 - val_accuracy: 0.4716 - lr: 0.0100\n",
      "Epoch 13/50\n",
      "782/782 [==============================] - 4s 5ms/step - loss: 1.4087 - accuracy: 0.5010 - val_loss: 1.4771 - val_accuracy: 0.4777 - lr: 0.0100\n",
      "Epoch 14/50\n",
      "782/782 [==============================] - 4s 5ms/step - loss: 1.3852 - accuracy: 0.5099 - val_loss: 1.5021 - val_accuracy: 0.4700 - lr: 0.0100\n",
      "Epoch 15/50\n",
      "782/782 [==============================] - 4s 5ms/step - loss: 1.2156 - accuracy: 0.5663 - val_loss: 1.3064 - val_accuracy: 0.5405 - lr: 0.0040\n",
      "Epoch 16/50\n",
      "782/782 [==============================] - 4s 5ms/step - loss: 1.1837 - accuracy: 0.5762 - val_loss: 1.3498 - val_accuracy: 0.5273 - lr: 0.0040\n",
      "Epoch 17/50\n",
      "782/782 [==============================] - 4s 5ms/step - loss: 1.1673 - accuracy: 0.5826 - val_loss: 1.3534 - val_accuracy: 0.5307 - lr: 0.0040\n",
      "Epoch 18/50\n",
      "782/782 [==============================] - 4s 5ms/step - loss: 1.1555 - accuracy: 0.5872 - val_loss: 1.3232 - val_accuracy: 0.5403 - lr: 0.0040\n",
      "Epoch 19/50\n",
      "782/782 [==============================] - 4s 5ms/step - loss: 1.1445 - accuracy: 0.5880 - val_loss: 1.3475 - val_accuracy: 0.5211 - lr: 0.0040\n",
      "Epoch 20/50\n",
      "782/782 [==============================] - 4s 5ms/step - loss: 1.0601 - accuracy: 0.6200 - val_loss: 1.2737 - val_accuracy: 0.5521 - lr: 0.0016\n",
      "Epoch 21/50\n",
      "782/782 [==============================] - 4s 5ms/step - loss: 1.0440 - accuracy: 0.6258 - val_loss: 1.2777 - val_accuracy: 0.5528 - lr: 0.0016\n",
      "Epoch 22/50\n",
      "782/782 [==============================] - 4s 5ms/step - loss: 1.0350 - accuracy: 0.6304 - val_loss: 1.2752 - val_accuracy: 0.5551 - lr: 0.0016\n",
      "Epoch 23/50\n",
      "782/782 [==============================] - 4s 6ms/step - loss: 1.0232 - accuracy: 0.6353 - val_loss: 1.2952 - val_accuracy: 0.5531 - lr: 0.0016\n",
      "Epoch 24/50\n",
      "782/782 [==============================] - 4s 5ms/step - loss: 1.0192 - accuracy: 0.6363 - val_loss: 1.2951 - val_accuracy: 0.5543 - lr: 0.0016\n",
      "Epoch 25/50\n",
      "782/782 [==============================] - 4s 5ms/step - loss: 0.9763 - accuracy: 0.6520 - val_loss: 1.2704 - val_accuracy: 0.5606 - lr: 6.4000e-04\n",
      "Epoch 26/50\n",
      "782/782 [==============================] - 4s 6ms/step - loss: 0.9658 - accuracy: 0.6554 - val_loss: 1.2646 - val_accuracy: 0.5615 - lr: 6.4000e-04\n",
      "Epoch 27/50\n",
      "782/782 [==============================] - 4s 5ms/step - loss: 0.9619 - accuracy: 0.6576 - val_loss: 1.2667 - val_accuracy: 0.5619 - lr: 6.4000e-04\n",
      "Epoch 28/50\n",
      "782/782 [==============================] - 4s 5ms/step - loss: 0.9543 - accuracy: 0.6591 - val_loss: 1.2768 - val_accuracy: 0.5602 - lr: 6.4000e-04\n",
      "Epoch 29/50\n",
      "782/782 [==============================] - 4s 5ms/step - loss: 0.9508 - accuracy: 0.6613 - val_loss: 1.2751 - val_accuracy: 0.5642 - lr: 6.4000e-04\n",
      "Epoch 30/50\n",
      "782/782 [==============================] - 4s 5ms/step - loss: 0.9457 - accuracy: 0.6632 - val_loss: 1.2891 - val_accuracy: 0.5558 - lr: 6.4000e-04\n",
      "Epoch 31/50\n",
      "782/782 [==============================] - 4s 5ms/step - loss: 0.9258 - accuracy: 0.6709 - val_loss: 1.2750 - val_accuracy: 0.5602 - lr: 2.5600e-04\n",
      "Epoch 32/50\n",
      "782/782 [==============================] - 4s 5ms/step - loss: 0.9218 - accuracy: 0.6716 - val_loss: 1.2776 - val_accuracy: 0.5618 - lr: 2.5600e-04\n",
      "Epoch 33/50\n",
      "782/782 [==============================] - 4s 5ms/step - loss: 0.9194 - accuracy: 0.6721 - val_loss: 1.2807 - val_accuracy: 0.5602 - lr: 2.5600e-04\n",
      "Epoch 34/50\n",
      "782/782 [==============================] - 4s 5ms/step - loss: 0.9173 - accuracy: 0.6731 - val_loss: 1.2791 - val_accuracy: 0.5626 - lr: 2.5600e-04\n",
      "Epoch 35/50\n",
      "782/782 [==============================] - 4s 5ms/step - loss: 0.9081 - accuracy: 0.6789 - val_loss: 1.2741 - val_accuracy: 0.5626 - lr: 1.0240e-04\n",
      "Epoch 36/50\n",
      "782/782 [==============================] - 4s 6ms/step - loss: 0.9065 - accuracy: 0.6780 - val_loss: 1.2768 - val_accuracy: 0.5637 - lr: 1.0240e-04\n"
     ]
    }
   ],
   "source": [
    "#Train our model with specified parameters\n",
    "\n",
    "history = model.fit(train_images, train_labels, batch_size=64, epochs=50, verbose=1,\n",
    "                    validation_data=(test_images, test_labels),\n",
    "                    callbacks=[early_stopping, learning_rate_scheduling])"
   ]
  },
  {
   "cell_type": "markdown",
   "id": "3133867c",
   "metadata": {},
   "source": [
    "## Evaluation"
   ]
  },
  {
   "cell_type": "code",
   "execution_count": 12,
   "id": "1d8ce73a",
   "metadata": {},
   "outputs": [
    {
     "data": {
      "text/plain": [
       "<matplotlib.legend.Legend at 0x1bbd7c2c730>"
      ]
     },
     "execution_count": 12,
     "metadata": {},
     "output_type": "execute_result"
    },
    {
     "data": {
      "image/png": "[encoded data removed]",
      "text/plain": [
       "<Figure size 432x288 with 1 Axes>"
      ]
     },
     "metadata": {
      "needs_background": "light"
     },
     "output_type": "display_data"
    }
   ],
   "source": [
    "#Create graph using matplotlib\n",
    "\n",
    "plt.plot(history.history['accuracy'], label='accuracy')\n",
    "plt.plot(history.history['val_accuracy'], label = 'val_accuracy')\n",
    "plt.xlabel('Epoch')\n",
    "plt.ylabel('Accuracy')\n",
    "plt.ylim([0.5, 1])\n",
    "plt.legend(loc='lower right')"
   ]
  },
  {
   "cell_type": "code",
   "execution_count": 13,
   "id": "d74c35e5",
   "metadata": {},
   "outputs": [
    {
     "name": "stdout",
     "output_type": "stream",
     "text": [
      "157/157 - 0s - loss: 1.2646 - accuracy: 0.5615 - 404ms/epoch - 3ms/step\n"
     ]
    },
    {
     "data": {
      "text/plain": [
       "[1.2645835876464844, 0.5615000128746033]"
      ]
     },
     "execution_count": 13,
     "metadata": {},
     "output_type": "execute_result"
    }
   ],
   "source": [
    "#Evaluate the model using the test dataset\n",
    "\n",
    "model.evaluate(test_images, test_labels, batch_size=64, verbose=2)"
   ]
  },
  {
   "cell_type": "markdown",
   "id": "daef521e",
   "metadata": {},
   "source": [
    "## Prediction"
   ]
  },
  {
   "cell_type": "code",
   "execution_count": 14,
   "id": "267a1c42",
   "metadata": {},
   "outputs": [
    {
     "name": "stdout",
     "output_type": "stream",
     "text": [
      "expected: deer\n",
      "actual: cat\n"
     ]
    },
    {
     "data": {
      "image/png": "[encoded data removed]",
      "text/plain": [
       "<Figure size 432x288 with 1 Axes>"
      ]
     },
     "metadata": {
      "needs_background": "light"
     },
     "output_type": "display_data"
    }
   ],
   "source": [
    "#Prediction to see if our model is accurate\n",
    "\n",
    "pred_label = model.predict(test_images)\n",
    "\n",
    "index = 0\n",
    "plt.imshow(test_images[index])\n",
    "print(\"expected: \" + class_names[pred_label[index].argmax()])\n",
    "print(\"actual: \" + class_names[int(test_labels[index])])"
   ]
  },
  {
   "cell_type": "code",
   "execution_count": null,
   "id": "84aa5152",
   "metadata": {},
   "outputs": [],
   "source": []
  }
 ],
 "metadata": {
  "kernelspec": {
   "display_name": "Python 3 (ipykernel)",
   "language": "python",
   "name": "python3"
  },
  "language_info": {
   "codemirror_mode": {
    "name": "ipython",
    "version": 3
   },
   "file_extension": ".py",
   "mimetype": "text/x-python",
   "name": "python",
   "nbconvert_exporter": "python",
   "pygments_lexer": "ipython3",
   "version": "3.9.9"
  }
 },
 "nbformat": 4,
 "nbformat_minor": 5
}
