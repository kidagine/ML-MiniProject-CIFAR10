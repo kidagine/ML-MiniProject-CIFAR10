{
 "cells": [
  {
   "cell_type": "markdown",
   "id": "c4feea48",
   "metadata": {},
   "source": [
    "## CIFAR10"
   ]
  },
  {
   "cell_type": "markdown",
   "id": "f7c8f9a4",
   "metadata": {},
   "source": [
    "<table align=\"left\">\n",
    "  <td>\n",
    "    <a target=\"_blank\" href=\"https://colab.research.google.com/drive/1I2aWD5twJdrq0SI2QD91HB5zCvvvCE_i\">\n",
    "    <img src=\"https://www.tensorflow.org/images/colab_logo_32px.png\" />Run in Google Colab</a>\n",
    "  </td>\n",
    "</table>"
   ]
  },
  {
   "cell_type": "markdown",
   "id": "4b7b3b2a",
   "metadata": {},
   "source": [
    "# CIFAR10 Dataset\n",
    "\n",
    "The CIFAR-10 dataset consists of 60000 32x32 colour images in 10 classes, with 6000 images per class. There are 50000 training images and 10000 test images.\n",
    "\n",
    "The dataset is divided into five training batches and one test batch, each with 10000 images. The test batch contains exactly 1000 randomly-selected images from each class. The training batches contain the remaining images in random order, but some training batches may contain more images from one class than another. Between them, the training batches contain exactly 5000 images from each class.\n",
    "\n",
    "We want to train a machine learning model to classify examples with the correct label based on the images.\n",
    "![title](CIFAR10.jpg)"
   ]
  },
  {
   "cell_type": "markdown",
   "id": "09f98a5d",
   "metadata": {},
   "source": [
    "# Setup"
   ]
  },
  {
   "cell_type": "code",
   "execution_count": 1,
   "id": "28b1d07d",
   "metadata": {},
   "outputs": [],
   "source": [
    "#Importing essential libraries\n",
    "\n",
    "import tensorflow as tf\n",
    "from tensorflow import keras\n",
    "from tensorflow.keras import layers\n",
    "from tensorflow.keras.datasets import cifar10\n",
    "import matplotlib.pyplot as plt"
   ]
  },
  {
   "cell_type": "markdown",
   "id": "3d511222",
   "metadata": {},
   "source": [
    "## Loading"
   ]
  },
  {
   "cell_type": "code",
   "execution_count": 2,
   "id": "344235a6",
   "metadata": {},
   "outputs": [],
   "source": [
    "#Loading dataset using tenserflow keras datasets\n",
    "\n",
    "(train_images, train_labels), (test_images, test_labels) = cifar10.load_data()"
   ]
  },
  {
   "cell_type": "markdown",
   "id": "9e014fc6",
   "metadata": {},
   "source": [
    "## Data Analysis\n"
   ]
  },
  {
   "cell_type": "markdown",
   "id": "cf4a77f3",
   "metadata": {},
   "source": [
    "We can see there are 50.000 training images and 10.000 test images"
   ]
  },
  {
   "cell_type": "code",
   "execution_count": 3,
   "id": "8fc9cf48",
   "metadata": {},
   "outputs": [
    {
     "name": "stdout",
     "output_type": "stream",
     "text": [
      "(50000, 32, 32, 3)\n",
      "(50000, 1)\n"
     ]
    }
   ],
   "source": [
    "print(train_images.shape)\n",
    "print(train_labels.shape)"
   ]
  },
  {
   "cell_type": "code",
   "execution_count": 4,
   "id": "3c3d2791",
   "metadata": {},
   "outputs": [
    {
     "name": "stdout",
     "output_type": "stream",
     "text": [
      "(10000, 32, 32, 3)\n",
      "(10000, 1)\n"
     ]
    }
   ],
   "source": [
    "print(test_images.shape)\n",
    "print(test_labels.shape)"
   ]
  },
  {
   "cell_type": "markdown",
   "id": "6768cd5e",
   "metadata": {},
   "source": [
    "Here we can see an example from our train dataset"
   ]
  },
  {
   "cell_type": "code",
   "execution_count": 5,
   "id": "73536d75",
   "metadata": {},
   "outputs": [
    {
     "name": "stdout",
     "output_type": "stream",
     "text": [
      "label: frog\n"
     ]
    },
    {
     "data": {
      "image/png": "[encoded data removed]",
      "text/plain": [
       "<Figure size 432x288 with 1 Axes>"
      ]
     },
     "metadata": {
      "needs_background": "light"
     },
     "output_type": "display_data"
    }
   ],
   "source": [
    "class_names = ['airplane', 'automobile', 'bird', 'cat', 'deer',\n",
    "               'dog', 'frog', 'horse', 'ship', 'truck']\n",
    "index = 0\n",
    "plt.imshow(train_images[index])\n",
    "print(\"label: \" + class_names[int(train_labels[index])])"
   ]
  },
  {
   "cell_type": "markdown",
   "id": "14ff2afa",
   "metadata": {},
   "source": [
    "## Preparing"
   ]
  },
  {
   "cell_type": "code",
   "execution_count": 6,
   "id": "63c19db8",
   "metadata": {},
   "outputs": [],
   "source": [
    "#Divide images with 255 to normalize them between 0 and 1\n",
    "\n",
    "train_images = train_images.astype(\"float32\") / 255.0\n",
    "test_images = test_images.astype(\"float32\") / 255.0"
   ]
  },
  {
   "cell_type": "markdown",
   "id": "86caae91",
   "metadata": {},
   "source": [
    "## Training"
   ]
  },
  {
   "cell_type": "code",
   "execution_count": 7,
   "id": "864ab0f8",
   "metadata": {},
   "outputs": [],
   "source": [
    "#We use the keras sequential model to train our machine learning \n",
    "\n",
    "model = keras.Sequential(\n",
    "    [\n",
    "        keras.Input((32, 32, 3)),\n",
    "        layers.Conv2D(32, (3, 3), padding=\"same\", activation=\"relu\"),\n",
    "        layers.MaxPooling2D((2, 2)),\n",
    "        layers.Dropout(0.2),\n",
    "        layers.Conv2D(64, (3, 3), padding=\"same\", activation='relu'),\n",
    "        layers.MaxPooling2D((2, 2)),\n",
    "        layers.Dropout(0.2),\n",
    "        layers.Conv2D(64, (3, 3), padding=\"same\", activation='relu'),\n",
    "        layers.MaxPooling2D((2, 2)),\n",
    "        layers.Dropout(0.2),\n",
    "        layers.Conv2D(128, (3, 3), padding=\"same\", activation='relu'),\n",
    "        layers.Flatten(),\n",
    "        layers.Dropout(0.2),\n",
    "        layers.Dense(256, activation='relu'),\n",
    "        layers.Dropout(0.2),\n",
    "        layers.Dense(128, activation='relu'),\n",
    "        layers.Dropout(0.2),\n",
    "        layers.Dense(10, activation='softmax'),\n",
    "    ]\n",
    ")"
   ]
  },
  {
   "cell_type": "code",
   "execution_count": 8,
   "id": "9ca7f3f0",
   "metadata": {},
   "outputs": [
    {
     "name": "stdout",
     "output_type": "stream",
     "text": [
      "Model: \"sequential\"\n",
      "_________________________________________________________________\n",
      " Layer (type)                Output Shape              Param #   \n",
      "=================================================================\n",
      " conv2d (Conv2D)             (None, 32, 32, 32)        896       \n",
      "                                                                 \n",
      " max_pooling2d (MaxPooling2D  (None, 16, 16, 32)       0         \n",
      " )                                                               \n",
      "                                                                 \n",
      " dropout (Dropout)           (None, 16, 16, 32)        0         \n",
      "                                                                 \n",
      " conv2d_1 (Conv2D)           (None, 16, 16, 64)        18496     \n",
      "                                                                 \n",
      " max_pooling2d_1 (MaxPooling  (None, 8, 8, 64)         0         \n",
      " 2D)                                                             \n",
      "                                                                 \n",
      " dropout_1 (Dropout)         (None, 8, 8, 64)          0         \n",
      "                                                                 \n",
      " conv2d_2 (Conv2D)           (None, 8, 8, 64)          36928     \n",
      "                                                                 \n",
      " max_pooling2d_2 (MaxPooling  (None, 4, 4, 64)         0         \n",
      " 2D)                                                             \n",
      "                                                                 \n",
      " dropout_2 (Dropout)         (None, 4, 4, 64)          0         \n",
      "                                                                 \n",
      " conv2d_3 (Conv2D)           (None, 4, 4, 128)         73856     \n",
      "                                                                 \n",
      " flatten (Flatten)           (None, 2048)              0         \n",
      "                                                                 \n",
      " dropout_3 (Dropout)         (None, 2048)              0         \n",
      "                                                                 \n",
      " dense (Dense)               (None, 256)               524544    \n",
      "                                                                 \n",
      " dropout_4 (Dropout)         (None, 256)               0         \n",
      "                                                                 \n",
      " dense_1 (Dense)             (None, 128)               32896     \n",
      "                                                                 \n",
      " dropout_5 (Dropout)         (None, 128)               0         \n",
      "                                                                 \n",
      " dense_2 (Dense)             (None, 10)                1290      \n",
      "                                                                 \n",
      "=================================================================\n",
      "Total params: 688,906\n",
      "Trainable params: 688,906\n",
      "Non-trainable params: 0\n",
      "_________________________________________________________________\n"
     ]
    }
   ],
   "source": [
    "#Gives us a summary of our model\n",
    "\n",
    "model.summary()"
   ]
  },
  {
   "cell_type": "code",
   "execution_count": 9,
   "id": "2309c1cd",
   "metadata": {},
   "outputs": [],
   "source": [
    "#Compile our model\n",
    "\n",
    "model.compile(\n",
    "    optimizer='adam',\n",
    "    loss=tf.keras.losses.SparseCategoricalCrossentropy(from_logits=False),\n",
    "    metrics=['accuracy'],\n",
    ")"
   ]
  },
  {
   "cell_type": "code",
   "execution_count": 10,
   "id": "24c8a538",
   "metadata": {},
   "outputs": [],
   "source": [
    "#Defining callbacks\n",
    "\n",
    "early_stopping_cb = keras.callbacks.EarlyStopping(patience=10, restore_best_weights=True)"
   ]
  },
  {
   "cell_type": "code",
   "execution_count": null,
   "id": "700ce286",
   "metadata": {},
   "outputs": [
    {
     "name": "stdout",
     "output_type": "stream",
     "text": [
      "Epoch 1/25\n",
      "782/782 [==============================] - 38s 48ms/step - loss: 1.7038 - accuracy: 0.3663 - val_loss: 1.3672 - val_accuracy: 0.5093\n",
      "Epoch 2/25\n",
      "782/782 [==============================] - 38s 49ms/step - loss: 1.3182 - accuracy: 0.5218 - val_loss: 1.0858 - val_accuracy: 0.6166\n",
      "Epoch 3/25\n",
      "782/782 [==============================] - 38s 48ms/step - loss: 1.1599 - accuracy: 0.5837 - val_loss: 1.0101 - val_accuracy: 0.6419\n",
      "Epoch 4/25\n",
      "782/782 [==============================] - 38s 49ms/step - loss: 1.0511 - accuracy: 0.6262 - val_loss: 0.9763 - val_accuracy: 0.6494\n",
      "Epoch 5/25\n",
      "782/782 [==============================] - 37s 48ms/step - loss: 0.9741 - accuracy: 0.6594 - val_loss: 0.9007 - val_accuracy: 0.6843\n",
      "Epoch 6/25\n",
      "782/782 [==============================] - 37s 47ms/step - loss: 0.9142 - accuracy: 0.6772 - val_loss: 0.8138 - val_accuracy: 0.7176\n",
      "Epoch 7/25\n",
      "782/782 [==============================] - 37s 48ms/step - loss: 0.8696 - accuracy: 0.6961 - val_loss: 0.7935 - val_accuracy: 0.7254\n",
      "Epoch 8/25\n",
      "782/782 [==============================] - 37s 48ms/step - loss: 0.8295 - accuracy: 0.7100 - val_loss: 0.7675 - val_accuracy: 0.7326\n",
      "Epoch 9/25\n",
      "782/782 [==============================] - 37s 48ms/step - loss: 0.8072 - accuracy: 0.7170 - val_loss: 0.7287 - val_accuracy: 0.7409\n",
      "Epoch 10/25\n",
      "782/782 [==============================] - 37s 47ms/step - loss: 0.7797 - accuracy: 0.7261 - val_loss: 0.7427 - val_accuracy: 0.7446\n",
      "Epoch 11/25\n",
      "782/782 [==============================] - 37s 47ms/step - loss: 0.7497 - accuracy: 0.7368 - val_loss: 0.7228 - val_accuracy: 0.7485\n",
      "Epoch 12/25\n",
      "782/782 [==============================] - 37s 47ms/step - loss: 0.7310 - accuracy: 0.7406 - val_loss: 0.6944 - val_accuracy: 0.7576\n",
      "Epoch 13/25\n",
      "782/782 [==============================] - 37s 48ms/step - loss: 0.7115 - accuracy: 0.7510 - val_loss: 0.7025 - val_accuracy: 0.7551\n",
      "Epoch 14/25\n",
      "782/782 [==============================] - 37s 48ms/step - loss: 0.7063 - accuracy: 0.7552 - val_loss: 0.7000 - val_accuracy: 0.7576\n",
      "Epoch 15/25\n",
      "782/782 [==============================] - 37s 48ms/step - loss: 0.6865 - accuracy: 0.7572 - val_loss: 0.6883 - val_accuracy: 0.7645\n",
      "Epoch 16/25\n",
      "782/782 [==============================] - 37s 48ms/step - loss: 0.6721 - accuracy: 0.7665 - val_loss: 0.6906 - val_accuracy: 0.7596\n",
      "Epoch 17/25\n",
      "782/782 [==============================] - 37s 47ms/step - loss: 0.6535 - accuracy: 0.7711 - val_loss: 0.7345 - val_accuracy: 0.7484\n",
      "Epoch 18/25\n",
      "782/782 [==============================] - 37s 47ms/step - loss: 0.6492 - accuracy: 0.7715 - val_loss: 0.7179 - val_accuracy: 0.7528\n",
      "Epoch 19/25\n",
      "782/782 [==============================] - 37s 47ms/step - loss: 0.6386 - accuracy: 0.7747 - val_loss: 0.6993 - val_accuracy: 0.7576\n",
      "Epoch 20/25\n",
      "782/782 [==============================] - 37s 47ms/step - loss: 0.6285 - accuracy: 0.7794 - val_loss: 0.6653 - val_accuracy: 0.7696\n",
      "Epoch 21/25\n",
      "782/782 [==============================] - 38s 48ms/step - loss: 0.6181 - accuracy: 0.7831 - val_loss: 0.6609 - val_accuracy: 0.7747\n",
      "Epoch 22/25\n",
      "782/782 [==============================] - 37s 47ms/step - loss: 0.6090 - accuracy: 0.7873 - val_loss: 0.7016 - val_accuracy: 0.7571\n",
      "Epoch 23/25\n",
      "782/782 [==============================] - 37s 47ms/step - loss: 0.5981 - accuracy: 0.7910 - val_loss: 0.6560 - val_accuracy: 0.7773\n",
      "Epoch 24/25\n",
      "782/782 [==============================] - 38s 48ms/step - loss: 0.5953 - accuracy: 0.7907 - val_loss: 0.6633 - val_accuracy: 0.7719\n",
      "Epoch 25/25\n",
      "410/782 [==============>...............] - ETA: 17s - loss: 0.5703 - accuracy: 0.8009"
     ]
    }
   ],
   "source": [
    "#Train our model with specified parameters\n",
    "\n",
    "history = model.fit(train_images, train_labels, batch_size=64, epochs=25, verbose=1,\n",
    "                    validation_data=(test_images, test_labels),\n",
    "                    callbacks=[early_stopping_cb])"
   ]
  },
  {
   "cell_type": "markdown",
   "id": "3133867c",
   "metadata": {},
   "source": [
    "## Evaluation"
   ]
  },
  {
   "cell_type": "code",
   "execution_count": null,
   "id": "1d8ce73a",
   "metadata": {},
   "outputs": [],
   "source": [
    "#Create graph using matplotlib\n",
    "\n",
    "plt.plot(history.history['accuracy'], label='accuracy')\n",
    "plt.plot(history.history['val_accuracy'], label = 'val_accuracy')\n",
    "plt.xlabel('Epoch')\n",
    "plt.ylabel('Accuracy')\n",
    "plt.ylim([0.5, 1])\n",
    "plt.legend(loc='lower right')"
   ]
  },
  {
   "cell_type": "code",
   "execution_count": null,
   "id": "d74c35e5",
   "metadata": {},
   "outputs": [],
   "source": [
    "#Evaluate the model using the test dataset\n",
    "\n",
    "model.evaluate(test_images, test_labels, batch_size=64, verbose=2)"
   ]
  },
  {
   "cell_type": "markdown",
   "id": "daef521e",
   "metadata": {},
   "source": [
    "## Prediction"
   ]
  },
  {
   "cell_type": "code",
   "execution_count": null,
   "id": "267a1c42",
   "metadata": {},
   "outputs": [],
   "source": [
    "#Prediction to see if our model is accurate\n",
    "\n",
    "pred_label = model.predict(test_images)\n",
    "\n",
    "index = 0\n",
    "plt.imshow(test_images[index])\n",
    "print(\"expected: \" + class_names[pred_label[index].argmax()])\n",
    "print(\"actual: \" + class_names[int(test_labels[index])])"
   ]
  },
  {
   "cell_type": "code",
   "execution_count": null,
   "id": "84aa5152",
   "metadata": {},
   "outputs": [],
   "source": []
  }
 ],
 "metadata": {
  "kernelspec": {
   "display_name": "Python 3 (ipykernel)",
   "language": "python",
   "name": "python3"
  },
  "language_info": {
   "codemirror_mode": {
    "name": "ipython",
    "version": 3
   },
   "file_extension": ".py",
   "mimetype": "text/x-python",
   "name": "python",
   "nbconvert_exporter": "python",
   "pygments_lexer": "ipython3",
   "version": "3.9.9"
  }
 },
 "nbformat": 4,
 "nbformat_minor": 5
}
