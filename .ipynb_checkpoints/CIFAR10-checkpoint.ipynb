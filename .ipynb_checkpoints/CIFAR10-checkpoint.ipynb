{
 "cells": [
  {
   "cell_type": "markdown",
   "id": "c4feea48",
   "metadata": {},
   "source": [
    "## CIFAR10"
   ]
  },
  {
   "cell_type": "markdown",
   "id": "f7c8f9a4",
   "metadata": {},
   "source": [
    "<table align=\"left\">\n",
    "  <td>\n",
    "    <a target=\"_blank\" href=\"https://colab.research.google.com/drive/1I2aWD5twJdrq0SI2QD91HB5zCvvvCE_i\">\n",
    "    <img src=\"https://www.tensorflow.org/images/colab_logo_32px.png\" />Run in Google Colab</a>\n",
    "  </td>\n",
    "</table>"
   ]
  },
  {
   "cell_type": "markdown",
   "id": "4b7b3b2a",
   "metadata": {},
   "source": [
    "# CIFAR10 Dataset\n",
    "\n",
    "The CIFAR-10 dataset consists of 60000 32x32 colour images in 10 classes, with 6000 images per class. There are 50000 training images and 10000 test images.\n",
    "\n",
    "The dataset is divided into five training batches and one test batch, each with 10000 images. The test batch contains exactly 1000 randomly-selected images from each class. The training batches contain the remaining images in random order, but some training batches may contain more images from one class than another. Between them, the training batches contain exactly 5000 images from each class.\n",
    "\n",
    "We want to train a machine learning model to classify examples with the correct label based on the images.\n",
    "![title](CIFAR10.jpg)"
   ]
  },
  {
   "cell_type": "markdown",
   "id": "09f98a5d",
   "metadata": {},
   "source": [
    "# Setup"
   ]
  },
  {
   "cell_type": "code",
   "execution_count": 1,
   "id": "28b1d07d",
   "metadata": {},
   "outputs": [],
   "source": [
    "#Importing essential libraries\n",
    "\n",
    "import tensorflow as tf\n",
    "from tensorflow import keras\n",
    "from tensorflow.keras import layers\n",
    "from tensorflow.keras.datasets import cifar10\n",
    "import matplotlib.pyplot as plt"
   ]
  },
  {
   "cell_type": "markdown",
   "id": "3d511222",
   "metadata": {},
   "source": [
    "## Loading"
   ]
  },
  {
   "cell_type": "code",
   "execution_count": 2,
   "id": "344235a6",
   "metadata": {},
   "outputs": [],
   "source": [
    "#Loading dataset using tenserflow keras datasets\n",
    "\n",
    "(train_images, train_labels), (test_images, test_labels) = cifar10.load_data()"
   ]
  },
  {
   "cell_type": "markdown",
   "id": "9e014fc6",
   "metadata": {},
   "source": [
    "## Data Analysis\n"
   ]
  },
  {
   "cell_type": "markdown",
   "id": "cf4a77f3",
   "metadata": {},
   "source": [
    "We can see there are 50.000 training images and 10.000 test images"
   ]
  },
  {
   "cell_type": "code",
   "execution_count": 3,
   "id": "8fc9cf48",
   "metadata": {},
   "outputs": [
    {
     "name": "stdout",
     "output_type": "stream",
     "text": [
      "(50000, 32, 32, 3)\n",
      "(50000, 1)\n"
     ]
    }
   ],
   "source": [
    "print(train_images.shape)\n",
    "print(train_labels.shape)"
   ]
  },
  {
   "cell_type": "code",
   "execution_count": 4,
   "id": "3c3d2791",
   "metadata": {},
   "outputs": [
    {
     "name": "stdout",
     "output_type": "stream",
     "text": [
      "(10000, 32, 32, 3)\n",
      "(10000, 1)\n"
     ]
    }
   ],
   "source": [
    "print(test_images.shape)\n",
    "print(test_labels.shape)"
   ]
  },
  {
   "cell_type": "markdown",
   "id": "6768cd5e",
   "metadata": {},
   "source": [
    "Here we can see an example from our train dataset"
   ]
  },
  {
   "cell_type": "code",
   "execution_count": 5,
   "id": "73536d75",
   "metadata": {},
   "outputs": [
    {
     "name": "stdout",
     "output_type": "stream",
     "text": [
      "label: frog\n"
     ]
    },
    {
     "data": {
      "image/png": "[encoded data removed]",
      "text/plain": [
       "<Figure size 432x288 with 1 Axes>"
      ]
     },
     "metadata": {
      "needs_background": "light"
     },
     "output_type": "display_data"
    }
   ],
   "source": [
    "class_names = ['airplane', 'automobile', 'bird', 'cat', 'deer',\n",
    "               'dog', 'frog', 'horse', 'ship', 'truck']\n",
    "index = 0\n",
    "plt.imshow(train_images[index])\n",
    "print(\"label: \" + class_names[int(train_labels[index])])"
   ]
  },
  {
   "cell_type": "markdown",
   "id": "14ff2afa",
   "metadata": {},
   "source": [
    "## Preparing"
   ]
  },
  {
   "cell_type": "code",
   "execution_count": 6,
   "id": "63c19db8",
   "metadata": {},
   "outputs": [],
   "source": [
    "#Divide images with 255 to normalize them between 0 and 1\n",
    "\n",
    "train_images = train_images.astype(\"float32\") / 255.0\n",
    "test_images = test_images.astype(\"float32\") / 255.0"
   ]
  },
  {
   "cell_type": "markdown",
   "id": "86caae91",
   "metadata": {},
   "source": [
    "## Training"
   ]
  },
  {
   "cell_type": "code",
   "execution_count": 7,
   "id": "864ab0f8",
   "metadata": {},
   "outputs": [],
   "source": [
    "#We use the keras sequential model to train our machine learning     \n",
    "\n",
    "model = keras.Sequential(\n",
    "    [\n",
    "        layers.Flatten(input_shape=(32,32,3)),\n",
    "        layers.Dense(300, activation='selu', kernel_initializer='lecun_normal'),\n",
    "        layers.Dropout(0.1),\n",
    "        layers.Dense(300, activation='selu', kernel_initializer='lecun_normal'),\n",
    "        layers.Dropout(0.1),\n",
    "        layers.Dense(300, activation='selu', kernel_initializer='lecun_normal'),\n",
    "        layers.Dropout(0.1),\n",
    "        layers.Dense(10, activation='softmax'),\n",
    "    ]\n",
    ")"
   ]
  },
  {
   "cell_type": "code",
   "execution_count": 8,
   "id": "9ca7f3f0",
   "metadata": {},
   "outputs": [
    {
     "name": "stdout",
     "output_type": "stream",
     "text": [
      "Model: \"sequential\"\n",
      "_________________________________________________________________\n",
      " Layer (type)                Output Shape              Param #   \n",
      "=================================================================\n",
      " flatten (Flatten)           (None, 3072)              0         \n",
      "                                                                 \n",
      " dense (Dense)               (None, 300)               921900    \n",
      "                                                                 \n",
      " dropout (Dropout)           (None, 300)               0         \n",
      "                                                                 \n",
      " dense_1 (Dense)             (None, 300)               90300     \n",
      "                                                                 \n",
      " dropout_1 (Dropout)         (None, 300)               0         \n",
      "                                                                 \n",
      " dense_2 (Dense)             (None, 300)               90300     \n",
      "                                                                 \n",
      " dropout_2 (Dropout)         (None, 300)               0         \n",
      "                                                                 \n",
      " dense_3 (Dense)             (None, 10)                3010      \n",
      "                                                                 \n",
      "=================================================================\n",
      "Total params: 1,105,510\n",
      "Trainable params: 1,105,510\n",
      "Non-trainable params: 0\n",
      "_________________________________________________________________\n"
     ]
    }
   ],
   "source": [
    "#Gives us a summary of our model\n",
    "\n",
    "model.summary()"
   ]
  },
  {
   "cell_type": "code",
   "execution_count": 9,
   "id": "2309c1cd",
   "metadata": {},
   "outputs": [],
   "source": [
    "#Compile our model\n",
    "\n",
    "model.compile(\n",
    "    optimizer=tf.keras.optimizers.SGD(momentum=0.9),\n",
    "    loss=tf.keras.losses.SparseCategoricalCrossentropy(from_logits=False),\n",
    "    metrics=['accuracy'],\n",
    ")"
   ]
  },
  {
   "cell_type": "code",
   "execution_count": 10,
   "id": "24c8a538",
   "metadata": {},
   "outputs": [],
   "source": [
    "#Defining callbacks\n",
    "\n",
    "early_stopping = keras.callbacks.EarlyStopping(patience=10, restore_best_weights=True)\n",
    "\n",
    "learning_rate_scheduling = keras.callbacks.ReduceLROnPlateau(factor=0.4, patience=4)"
   ]
  },
  {
   "cell_type": "code",
   "execution_count": 11,
   "id": "700ce286",
   "metadata": {},
   "outputs": [
    {
     "name": "stdout",
     "output_type": "stream",
     "text": [
      "Epoch 1/100\n",
      "782/782 [==============================] - 5s 6ms/step - loss: 2.3753 - accuracy: 0.2449 - val_loss: 1.8667 - val_accuracy: 0.3296 - lr: 0.0100\n",
      "Epoch 2/100\n",
      "782/782 [==============================] - 4s 5ms/step - loss: 1.8747 - accuracy: 0.3327 - val_loss: 1.8987 - val_accuracy: 0.3407 - lr: 0.0100\n",
      "Epoch 3/100\n",
      "782/782 [==============================] - 4s 5ms/step - loss: 1.7941 - accuracy: 0.3592 - val_loss: 1.7590 - val_accuracy: 0.3759 - lr: 0.0100\n",
      "Epoch 4/100\n",
      "782/782 [==============================] - 4s 5ms/step - loss: 1.7357 - accuracy: 0.3827 - val_loss: 1.6749 - val_accuracy: 0.4008 - lr: 0.0100\n",
      "Epoch 5/100\n",
      "782/782 [==============================] - 4s 5ms/step - loss: 1.6903 - accuracy: 0.4014 - val_loss: 1.6615 - val_accuracy: 0.4082 - lr: 0.0100\n",
      "Epoch 6/100\n",
      "782/782 [==============================] - 4s 5ms/step - loss: 1.6674 - accuracy: 0.4065 - val_loss: 1.6476 - val_accuracy: 0.4090 - lr: 0.0100\n",
      "Epoch 7/100\n",
      "782/782 [==============================] - 4s 6ms/step - loss: 1.6346 - accuracy: 0.4206 - val_loss: 1.6159 - val_accuracy: 0.4374 - lr: 0.0100\n",
      "Epoch 8/100\n",
      "782/782 [==============================] - 4s 5ms/step - loss: 1.6129 - accuracy: 0.4276 - val_loss: 1.5618 - val_accuracy: 0.4421 - lr: 0.0100\n",
      "Epoch 9/100\n",
      "782/782 [==============================] - 4s 5ms/step - loss: 1.5860 - accuracy: 0.4359 - val_loss: 1.5651 - val_accuracy: 0.4392 - lr: 0.0100\n",
      "Epoch 10/100\n",
      "782/782 [==============================] - 4s 5ms/step - loss: 1.5749 - accuracy: 0.4427 - val_loss: 1.5261 - val_accuracy: 0.4511 - lr: 0.0100\n",
      "Epoch 11/100\n",
      "782/782 [==============================] - 4s 5ms/step - loss: 1.5559 - accuracy: 0.4497 - val_loss: 1.5415 - val_accuracy: 0.4513 - lr: 0.0100\n",
      "Epoch 12/100\n",
      "782/782 [==============================] - 4s 5ms/step - loss: 1.5420 - accuracy: 0.4531 - val_loss: 1.5115 - val_accuracy: 0.4729 - lr: 0.0100\n",
      "Epoch 13/100\n",
      "782/782 [==============================] - 4s 5ms/step - loss: 1.5287 - accuracy: 0.4590 - val_loss: 1.4696 - val_accuracy: 0.4672 - lr: 0.0100\n",
      "Epoch 14/100\n",
      "782/782 [==============================] - 4s 5ms/step - loss: 1.5103 - accuracy: 0.4672 - val_loss: 1.5418 - val_accuracy: 0.4466 - lr: 0.0100\n",
      "Epoch 15/100\n",
      "782/782 [==============================] - 4s 5ms/step - loss: 1.4894 - accuracy: 0.4727 - val_loss: 1.5002 - val_accuracy: 0.4674 - lr: 0.0100\n",
      "Epoch 16/100\n",
      "782/782 [==============================] - 4s 5ms/step - loss: 1.4741 - accuracy: 0.4787 - val_loss: 1.4507 - val_accuracy: 0.4811 - lr: 0.0100\n",
      "Epoch 17/100\n",
      "782/782 [==============================] - 4s 5ms/step - loss: 1.4692 - accuracy: 0.4806 - val_loss: 1.4666 - val_accuracy: 0.4729 - lr: 0.0100\n",
      "Epoch 18/100\n",
      "782/782 [==============================] - 4s 6ms/step - loss: 1.4526 - accuracy: 0.4859 - val_loss: 1.4557 - val_accuracy: 0.4847 - lr: 0.0100\n",
      "Epoch 19/100\n",
      "782/782 [==============================] - 4s 5ms/step - loss: 1.4387 - accuracy: 0.4934 - val_loss: 1.6273 - val_accuracy: 0.4360 - lr: 0.0100\n",
      "Epoch 20/100\n",
      "782/782 [==============================] - 4s 5ms/step - loss: 1.4335 - accuracy: 0.4951 - val_loss: 1.4594 - val_accuracy: 0.4943 - lr: 0.0100\n",
      "Epoch 21/100\n",
      "782/782 [==============================] - 4s 5ms/step - loss: 1.2832 - accuracy: 0.5383 - val_loss: 1.3176 - val_accuracy: 0.5303 - lr: 0.0040\n",
      "Epoch 22/100\n",
      "782/782 [==============================] - 4s 5ms/step - loss: 1.2555 - accuracy: 0.5539 - val_loss: 1.3151 - val_accuracy: 0.5280 - lr: 0.0040\n",
      "Epoch 23/100\n",
      "782/782 [==============================] - 4s 5ms/step - loss: 1.2434 - accuracy: 0.5551 - val_loss: 1.3195 - val_accuracy: 0.5307 - lr: 0.0040\n",
      "Epoch 24/100\n",
      "782/782 [==============================] - 4s 5ms/step - loss: 1.2351 - accuracy: 0.5593 - val_loss: 1.3176 - val_accuracy: 0.5244 - lr: 0.0040\n",
      "Epoch 25/100\n",
      "782/782 [==============================] - 4s 5ms/step - loss: 1.2299 - accuracy: 0.5603 - val_loss: 1.2881 - val_accuracy: 0.5375 - lr: 0.0040\n",
      "Epoch 26/100\n",
      "782/782 [==============================] - 4s 5ms/step - loss: 1.2172 - accuracy: 0.5633 - val_loss: 1.2965 - val_accuracy: 0.5404 - lr: 0.0040\n",
      "Epoch 27/100\n",
      "782/782 [==============================] - 4s 5ms/step - loss: 1.2169 - accuracy: 0.5630 - val_loss: 1.3045 - val_accuracy: 0.5353 - lr: 0.0040\n",
      "Epoch 28/100\n",
      "782/782 [==============================] - 4s 5ms/step - loss: 1.2105 - accuracy: 0.5678 - val_loss: 1.2873 - val_accuracy: 0.5437 - lr: 0.0040\n",
      "Epoch 29/100\n",
      "782/782 [==============================] - 4s 5ms/step - loss: 1.1991 - accuracy: 0.5684 - val_loss: 1.2883 - val_accuracy: 0.5391 - lr: 0.0040\n",
      "Epoch 30/100\n",
      "782/782 [==============================] - 4s 5ms/step - loss: 1.1960 - accuracy: 0.5715 - val_loss: 1.2690 - val_accuracy: 0.5460 - lr: 0.0040\n",
      "Epoch 31/100\n",
      "782/782 [==============================] - 4s 5ms/step - loss: 1.1865 - accuracy: 0.5754 - val_loss: 1.3357 - val_accuracy: 0.5254 - lr: 0.0040\n",
      "Epoch 32/100\n",
      "782/782 [==============================] - 4s 5ms/step - loss: 1.1815 - accuracy: 0.5752 - val_loss: 1.2841 - val_accuracy: 0.5426 - lr: 0.0040\n",
      "Epoch 33/100\n",
      "782/782 [==============================] - 4s 6ms/step - loss: 1.1746 - accuracy: 0.5772 - val_loss: 1.2975 - val_accuracy: 0.5404 - lr: 0.0040\n",
      "Epoch 34/100\n",
      "782/782 [==============================] - 4s 5ms/step - loss: 1.1676 - accuracy: 0.5820 - val_loss: 1.2998 - val_accuracy: 0.5323 - lr: 0.0040\n",
      "Epoch 35/100\n",
      "782/782 [==============================] - 4s 5ms/step - loss: 1.1012 - accuracy: 0.6040 - val_loss: 1.2454 - val_accuracy: 0.5601 - lr: 0.0016\n",
      "Epoch 36/100\n",
      "782/782 [==============================] - 4s 5ms/step - loss: 1.0907 - accuracy: 0.6086 - val_loss: 1.2407 - val_accuracy: 0.5585 - lr: 0.0016\n",
      "Epoch 37/100\n",
      "782/782 [==============================] - 4s 6ms/step - loss: 1.0815 - accuracy: 0.6117 - val_loss: 1.2415 - val_accuracy: 0.5631 - lr: 0.0016\n",
      "Epoch 38/100\n",
      "782/782 [==============================] - 4s 6ms/step - loss: 1.0843 - accuracy: 0.6137 - val_loss: 1.2357 - val_accuracy: 0.5628 - lr: 0.0016\n",
      "Epoch 39/100\n",
      "782/782 [==============================] - 4s 5ms/step - loss: 1.0818 - accuracy: 0.6127 - val_loss: 1.2291 - val_accuracy: 0.5657 - lr: 0.0016\n",
      "Epoch 40/100\n",
      "782/782 [==============================] - 4s 5ms/step - loss: 1.0725 - accuracy: 0.6147 - val_loss: 1.2395 - val_accuracy: 0.5588 - lr: 0.0016\n",
      "Epoch 41/100\n",
      "782/782 [==============================] - 4s 6ms/step - loss: 1.0670 - accuracy: 0.6173 - val_loss: 1.2302 - val_accuracy: 0.5653 - lr: 0.0016\n",
      "Epoch 42/100\n",
      "782/782 [==============================] - 4s 6ms/step - loss: 1.0648 - accuracy: 0.6177 - val_loss: 1.2338 - val_accuracy: 0.5683 - lr: 0.0016\n",
      "Epoch 43/100\n",
      "782/782 [==============================] - 4s 5ms/step - loss: 1.0620 - accuracy: 0.6212 - val_loss: 1.2227 - val_accuracy: 0.5631 - lr: 0.0016\n",
      "Epoch 44/100\n",
      "782/782 [==============================] - 4s 5ms/step - loss: 1.0636 - accuracy: 0.6187 - val_loss: 1.2384 - val_accuracy: 0.5663 - lr: 0.0016\n",
      "Epoch 45/100\n",
      "782/782 [==============================] - 4s 5ms/step - loss: 1.0576 - accuracy: 0.6198 - val_loss: 1.2417 - val_accuracy: 0.5589 - lr: 0.0016\n",
      "Epoch 46/100\n",
      "782/782 [==============================] - 4s 6ms/step - loss: 1.0541 - accuracy: 0.6234 - val_loss: 1.2284 - val_accuracy: 0.5647 - lr: 0.0016\n",
      "Epoch 47/100\n",
      "782/782 [==============================] - 4s 5ms/step - loss: 1.0520 - accuracy: 0.6215 - val_loss: 1.2247 - val_accuracy: 0.5671 - lr: 0.0016\n",
      "Epoch 48/100\n",
      "782/782 [==============================] - 4s 5ms/step - loss: 1.0226 - accuracy: 0.6354 - val_loss: 1.2151 - val_accuracy: 0.5683 - lr: 6.4000e-04\n",
      "Epoch 49/100\n",
      "782/782 [==============================] - 4s 6ms/step - loss: 1.0176 - accuracy: 0.6352 - val_loss: 1.2124 - val_accuracy: 0.5736 - lr: 6.4000e-04\n",
      "Epoch 50/100\n",
      "782/782 [==============================] - 4s 5ms/step - loss: 1.0178 - accuracy: 0.6348 - val_loss: 1.2179 - val_accuracy: 0.5671 - lr: 6.4000e-04\n",
      "Epoch 51/100\n",
      "782/782 [==============================] - 4s 5ms/step - loss: 1.0137 - accuracy: 0.6384 - val_loss: 1.2100 - val_accuracy: 0.5721 - lr: 6.4000e-04\n",
      "Epoch 52/100\n",
      "782/782 [==============================] - 4s 5ms/step - loss: 1.0120 - accuracy: 0.6379 - val_loss: 1.2140 - val_accuracy: 0.5726 - lr: 6.4000e-04\n",
      "Epoch 53/100\n"
     ]
    },
    {
     "name": "stdout",
     "output_type": "stream",
     "text": [
      "782/782 [==============================] - 4s 6ms/step - loss: 1.0102 - accuracy: 0.6371 - val_loss: 1.2157 - val_accuracy: 0.5739 - lr: 6.4000e-04\n",
      "Epoch 54/100\n",
      "782/782 [==============================] - 4s 6ms/step - loss: 1.0038 - accuracy: 0.6403 - val_loss: 1.2177 - val_accuracy: 0.5724 - lr: 6.4000e-04\n",
      "Epoch 55/100\n",
      "782/782 [==============================] - 4s 5ms/step - loss: 1.0057 - accuracy: 0.6373 - val_loss: 1.2092 - val_accuracy: 0.5736 - lr: 6.4000e-04\n",
      "Epoch 56/100\n",
      "782/782 [==============================] - 4s 6ms/step - loss: 1.0046 - accuracy: 0.6398 - val_loss: 1.2142 - val_accuracy: 0.5730 - lr: 6.4000e-04\n",
      "Epoch 57/100\n",
      "782/782 [==============================] - 4s 6ms/step - loss: 1.0026 - accuracy: 0.6388 - val_loss: 1.2161 - val_accuracy: 0.5717 - lr: 6.4000e-04\n",
      "Epoch 58/100\n",
      "782/782 [==============================] - 4s 5ms/step - loss: 1.0009 - accuracy: 0.6398 - val_loss: 1.2151 - val_accuracy: 0.5731 - lr: 6.4000e-04\n",
      "Epoch 59/100\n",
      "782/782 [==============================] - 4s 6ms/step - loss: 0.9984 - accuracy: 0.6414 - val_loss: 1.2107 - val_accuracy: 0.5712 - lr: 6.4000e-04\n",
      "Epoch 60/100\n",
      "782/782 [==============================] - 4s 5ms/step - loss: 0.9922 - accuracy: 0.6445 - val_loss: 1.2067 - val_accuracy: 0.5754 - lr: 2.5600e-04\n",
      "Epoch 61/100\n",
      "782/782 [==============================] - 4s 5ms/step - loss: 0.9851 - accuracy: 0.6450 - val_loss: 1.2073 - val_accuracy: 0.5730 - lr: 2.5600e-04\n",
      "Epoch 62/100\n",
      "782/782 [==============================] - 4s 5ms/step - loss: 0.9835 - accuracy: 0.6482 - val_loss: 1.2103 - val_accuracy: 0.5744 - lr: 2.5600e-04\n",
      "Epoch 63/100\n",
      "782/782 [==============================] - 4s 5ms/step - loss: 0.9826 - accuracy: 0.6465 - val_loss: 1.2084 - val_accuracy: 0.5745 - lr: 2.5600e-04\n",
      "Epoch 64/100\n",
      "782/782 [==============================] - 4s 5ms/step - loss: 0.9853 - accuracy: 0.6455 - val_loss: 1.2049 - val_accuracy: 0.5742 - lr: 2.5600e-04\n",
      "Epoch 65/100\n",
      "782/782 [==============================] - 4s 6ms/step - loss: 0.9853 - accuracy: 0.6476 - val_loss: 1.2069 - val_accuracy: 0.5763 - lr: 2.5600e-04\n",
      "Epoch 66/100\n",
      "782/782 [==============================] - 4s 5ms/step - loss: 0.9835 - accuracy: 0.6464 - val_loss: 1.2046 - val_accuracy: 0.5754 - lr: 2.5600e-04\n",
      "Epoch 67/100\n",
      "782/782 [==============================] - 4s 5ms/step - loss: 0.9846 - accuracy: 0.6454 - val_loss: 1.2041 - val_accuracy: 0.5739 - lr: 2.5600e-04\n",
      "Epoch 68/100\n",
      "782/782 [==============================] - 4s 5ms/step - loss: 0.9789 - accuracy: 0.6508 - val_loss: 1.2027 - val_accuracy: 0.5795 - lr: 2.5600e-04\n",
      "Epoch 69/100\n",
      "782/782 [==============================] - 4s 5ms/step - loss: 0.9788 - accuracy: 0.6496 - val_loss: 1.2070 - val_accuracy: 0.5761 - lr: 2.5600e-04\n",
      "Epoch 70/100\n",
      "782/782 [==============================] - 4s 5ms/step - loss: 0.9761 - accuracy: 0.6492 - val_loss: 1.2088 - val_accuracy: 0.5725 - lr: 2.5600e-04\n",
      "Epoch 71/100\n",
      "782/782 [==============================] - 4s 5ms/step - loss: 0.9789 - accuracy: 0.6500 - val_loss: 1.2078 - val_accuracy: 0.5740 - lr: 2.5600e-04\n",
      "Epoch 72/100\n",
      "782/782 [==============================] - 4s 5ms/step - loss: 0.9737 - accuracy: 0.6501 - val_loss: 1.2069 - val_accuracy: 0.5736 - lr: 2.5600e-04\n",
      "Epoch 73/100\n",
      "782/782 [==============================] - 4s 5ms/step - loss: 0.9724 - accuracy: 0.6516 - val_loss: 1.2030 - val_accuracy: 0.5765 - lr: 1.0240e-04\n",
      "Epoch 74/100\n",
      "782/782 [==============================] - 4s 5ms/step - loss: 0.9696 - accuracy: 0.6519 - val_loss: 1.2038 - val_accuracy: 0.5784 - lr: 1.0240e-04\n",
      "Epoch 75/100\n",
      "782/782 [==============================] - 4s 6ms/step - loss: 0.9719 - accuracy: 0.6520 - val_loss: 1.2036 - val_accuracy: 0.5763 - lr: 1.0240e-04\n",
      "Epoch 76/100\n",
      "782/782 [==============================] - 4s 5ms/step - loss: 0.9677 - accuracy: 0.6513 - val_loss: 1.2031 - val_accuracy: 0.5759 - lr: 1.0240e-04\n",
      "Epoch 77/100\n",
      "782/782 [==============================] - 4s 6ms/step - loss: 0.9688 - accuracy: 0.6528 - val_loss: 1.2019 - val_accuracy: 0.5772 - lr: 4.0960e-05\n",
      "Epoch 78/100\n",
      "782/782 [==============================] - 4s 5ms/step - loss: 0.9643 - accuracy: 0.6524 - val_loss: 1.2024 - val_accuracy: 0.5757 - lr: 4.0960e-05\n",
      "Epoch 79/100\n",
      "782/782 [==============================] - 4s 5ms/step - loss: 0.9649 - accuracy: 0.6530 - val_loss: 1.2027 - val_accuracy: 0.5764 - lr: 4.0960e-05\n",
      "Epoch 80/100\n",
      "782/782 [==============================] - 4s 6ms/step - loss: 0.9665 - accuracy: 0.6543 - val_loss: 1.2031 - val_accuracy: 0.5754 - lr: 4.0960e-05\n",
      "Epoch 81/100\n",
      "782/782 [==============================] - 4s 6ms/step - loss: 0.9662 - accuracy: 0.6525 - val_loss: 1.2024 - val_accuracy: 0.5753 - lr: 4.0960e-05\n",
      "Epoch 82/100\n",
      "782/782 [==============================] - 4s 5ms/step - loss: 0.9642 - accuracy: 0.6554 - val_loss: 1.2025 - val_accuracy: 0.5758 - lr: 1.6384e-05\n",
      "Epoch 83/100\n",
      "782/782 [==============================] - 4s 5ms/step - loss: 0.9659 - accuracy: 0.6530 - val_loss: 1.2021 - val_accuracy: 0.5754 - lr: 1.6384e-05\n",
      "Epoch 84/100\n",
      "782/782 [==============================] - 4s 5ms/step - loss: 0.9616 - accuracy: 0.6538 - val_loss: 1.2030 - val_accuracy: 0.5761 - lr: 1.6384e-05\n",
      "Epoch 85/100\n",
      "782/782 [==============================] - 4s 5ms/step - loss: 0.9666 - accuracy: 0.6539 - val_loss: 1.2028 - val_accuracy: 0.5762 - lr: 1.6384e-05\n",
      "Epoch 86/100\n",
      "782/782 [==============================] - 4s 5ms/step - loss: 0.9656 - accuracy: 0.6543 - val_loss: 1.2030 - val_accuracy: 0.5761 - lr: 6.5536e-06\n",
      "Epoch 87/100\n",
      "782/782 [==============================] - 4s 5ms/step - loss: 0.9643 - accuracy: 0.6541 - val_loss: 1.2028 - val_accuracy: 0.5761 - lr: 6.5536e-06\n"
     ]
    }
   ],
   "source": [
    "#Train our model with specified parameters\n",
    "\n",
    "history = model.fit(train_images, train_labels, batch_size=64, epochs=100, verbose=1,\n",
    "                    validation_data=(test_images, test_labels),\n",
    "                    callbacks=[early_stopping, learning_rate_scheduling])"
   ]
  },
  {
   "cell_type": "markdown",
   "id": "3133867c",
   "metadata": {},
   "source": [
    "## Evaluation"
   ]
  },
  {
   "cell_type": "code",
   "execution_count": 12,
   "id": "1d8ce73a",
   "metadata": {},
   "outputs": [
    {
     "data": {
      "text/plain": [
       "<matplotlib.legend.Legend at 0x16504179850>"
      ]
     },
     "execution_count": 12,
     "metadata": {},
     "output_type": "execute_result"
    },
    {
     "data": {
      "image/png": "[encoded data removed]",
      "text/plain": [
       "<Figure size 432x288 with 1 Axes>"
      ]
     },
     "metadata": {
      "needs_background": "light"
     },
     "output_type": "display_data"
    }
   ],
   "source": [
    "#Create graph using matplotlib\n",
    "\n",
    "plt.plot(history.history['accuracy'], label='accuracy')\n",
    "plt.plot(history.history['val_accuracy'], label = 'val_accuracy')\n",
    "plt.xlabel('Epoch')\n",
    "plt.ylabel('Accuracy')\n",
    "plt.ylim([0.5, 1])\n",
    "plt.legend(loc='lower right')"
   ]
  },
  {
   "cell_type": "code",
   "execution_count": 13,
   "id": "d74c35e5",
   "metadata": {},
   "outputs": [
    {
     "name": "stdout",
     "output_type": "stream",
     "text": [
      "157/157 - 0s - loss: 1.2019 - accuracy: 0.5772 - 396ms/epoch - 3ms/step\n"
     ]
    },
    {
     "data": {
      "text/plain": [
       "[1.2018537521362305, 0.5771999955177307]"
      ]
     },
     "execution_count": 13,
     "metadata": {},
     "output_type": "execute_result"
    }
   ],
   "source": [
    "#Evaluate the model using the test dataset\n",
    "\n",
    "model.evaluate(test_images, test_labels, batch_size=64, verbose=2)"
   ]
  },
  {
   "cell_type": "markdown",
   "id": "daef521e",
   "metadata": {},
   "source": [
    "## Prediction"
   ]
  },
  {
   "cell_type": "code",
   "execution_count": 14,
   "id": "267a1c42",
   "metadata": {},
   "outputs": [
    {
     "name": "stdout",
     "output_type": "stream",
     "text": [
      "expected: cat\n",
      "actual: cat\n"
     ]
    },
    {
     "data": {
      "image/png": "[encoded data removed]",
      "text/plain": [
       "<Figure size 432x288 with 1 Axes>"
      ]
     },
     "metadata": {
      "needs_background": "light"
     },
     "output_type": "display_data"
    }
   ],
   "source": [
    "#Prediction to see if our model is accurate\n",
    "\n",
    "pred_label = model.predict(test_images)\n",
    "\n",
    "index = 0\n",
    "plt.imshow(test_images[index])\n",
    "print(\"expected: \" + class_names[pred_label[index].argmax()])\n",
    "print(\"actual: \" + class_names[int(test_labels[index])])"
   ]
  },
  {
   "cell_type": "code",
   "execution_count": null,
   "id": "84aa5152",
   "metadata": {},
   "outputs": [],
   "source": []
  }
 ],
 "metadata": {
  "kernelspec": {
   "display_name": "Python 3 (ipykernel)",
   "language": "python",
   "name": "python3"
  },
  "language_info": {
   "codemirror_mode": {
    "name": "ipython",
    "version": 3
   },
   "file_extension": ".py",
   "mimetype": "text/x-python",
   "name": "python",
   "nbconvert_exporter": "python",
   "pygments_lexer": "ipython3",
   "version": "3.9.9"
  }
 },
 "nbformat": 4,
 "nbformat_minor": 5
}
