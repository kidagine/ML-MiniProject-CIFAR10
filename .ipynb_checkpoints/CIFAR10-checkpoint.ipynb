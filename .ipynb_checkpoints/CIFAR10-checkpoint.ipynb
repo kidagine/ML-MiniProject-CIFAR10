{
 "cells": [
  {
   "cell_type": "markdown",
   "id": "c4feea48",
   "metadata": {},
   "source": [
    "## CIFAR10"
   ]
  },
  {
   "cell_type": "markdown",
   "id": "f7c8f9a4",
   "metadata": {},
   "source": [
    "<table align=\"left\">\n",
    "  <td>\n",
    "    <a target=\"_blank\" href=\"https://colab.research.google.com/drive/1I2aWD5twJdrq0SI2QD91HB5zCvvvCE_i\">\n",
    "    <img src=\"https://www.tensorflow.org/images/colab_logo_32px.png\" />Run in Google Colab</a>\n",
    "  </td>\n",
    "</table>"
   ]
  },
  {
   "cell_type": "markdown",
   "id": "4b7b3b2a",
   "metadata": {},
   "source": [
    "# CIFAR10 Dataset\n",
    "\n",
    "The CIFAR-10 dataset consists of 60000 32x32 colour images in 10 classes, with 6000 images per class. There are 50000 training images and 10000 test images.\n",
    "\n",
    "The dataset is divided into five training batches and one test batch, each with 10000 images. The test batch contains exactly 1000 randomly-selected images from each class. The training batches contain the remaining images in random order, but some training batches may contain more images from one class than another. Between them, the training batches contain exactly 5000 images from each class.\n",
    "\n",
    "We want to train a machine learning model to classify examples with the correct label based on the images.\n",
    "![title](CIFAR10.jpg)"
   ]
  },
  {
   "cell_type": "markdown",
   "id": "09f98a5d",
   "metadata": {},
   "source": [
    "# Setup"
   ]
  },
  {
   "cell_type": "code",
   "execution_count": 1,
   "id": "28b1d07d",
   "metadata": {},
   "outputs": [],
   "source": [
    "#Importing essential libraries\n",
    "\n",
    "import tensorflow as tf\n",
    "from tensorflow import keras\n",
    "from tensorflow.keras import layers\n",
    "from tensorflow.keras.datasets import cifar10\n",
    "import matplotlib.pyplot as plt"
   ]
  },
  {
   "cell_type": "markdown",
   "id": "3d511222",
   "metadata": {},
   "source": [
    "## Loading"
   ]
  },
  {
   "cell_type": "code",
   "execution_count": 2,
   "id": "344235a6",
   "metadata": {},
   "outputs": [],
   "source": [
    "#Loading dataset using tenserflow keras datasets\n",
    "\n",
    "(train_images, train_labels), (test_images, test_labels) = cifar10.load_data()"
   ]
  },
  {
   "cell_type": "markdown",
   "id": "9e014fc6",
   "metadata": {},
   "source": [
    "## Data Analysis\n"
   ]
  },
  {
   "cell_type": "markdown",
   "id": "cf4a77f3",
   "metadata": {},
   "source": [
    "We can see there are 50.000 training images and 10.000 test images"
   ]
  },
  {
   "cell_type": "code",
   "execution_count": 3,
   "id": "8fc9cf48",
   "metadata": {},
   "outputs": [
    {
     "name": "stdout",
     "output_type": "stream",
     "text": [
      "(50000, 32, 32, 3)\n",
      "(50000, 1)\n"
     ]
    }
   ],
   "source": [
    "print(train_images.shape)\n",
    "print(train_labels.shape)"
   ]
  },
  {
   "cell_type": "code",
   "execution_count": 4,
   "id": "3c3d2791",
   "metadata": {},
   "outputs": [
    {
     "name": "stdout",
     "output_type": "stream",
     "text": [
      "(10000, 32, 32, 3)\n",
      "(10000, 1)\n"
     ]
    }
   ],
   "source": [
    "print(test_images.shape)\n",
    "print(test_labels.shape)"
   ]
  },
  {
   "cell_type": "markdown",
   "id": "6768cd5e",
   "metadata": {},
   "source": [
    "Here we can see an example from our train dataset"
   ]
  },
  {
   "cell_type": "code",
   "execution_count": 5,
   "id": "73536d75",
   "metadata": {},
   "outputs": [
    {
     "name": "stdout",
     "output_type": "stream",
     "text": [
      "label: frog\n"
     ]
    },
    {
     "data": {
      "image/png": "[encoded data removed]",
      "text/plain": [
       "<Figure size 432x288 with 1 Axes>"
      ]
     },
     "metadata": {
      "needs_background": "light"
     },
     "output_type": "display_data"
    }
   ],
   "source": [
    "class_names = ['airplane', 'automobile', 'bird', 'cat', 'deer',\n",
    "               'dog', 'frog', 'horse', 'ship', 'truck']\n",
    "index = 0\n",
    "plt.imshow(train_images[index])\n",
    "print(\"label: \" + class_names[int(train_labels[index])])"
   ]
  },
  {
   "cell_type": "markdown",
   "id": "14ff2afa",
   "metadata": {},
   "source": [
    "## Preparing"
   ]
  },
  {
   "cell_type": "code",
   "execution_count": 6,
   "id": "63c19db8",
   "metadata": {},
   "outputs": [],
   "source": [
    "#Divide images with 255 to normalize them between 0 and 1\n",
    "\n",
    "train_images = train_images.astype(\"float32\") / 255.0\n",
    "test_images = test_images.astype(\"float32\") / 255.0"
   ]
  },
  {
   "cell_type": "markdown",
   "id": "86caae91",
   "metadata": {},
   "source": [
    "## Training"
   ]
  },
  {
   "cell_type": "code",
   "execution_count": 7,
   "id": "864ab0f8",
   "metadata": {},
   "outputs": [],
   "source": [
    "#We use the keras sequential model to train our machine learning \n",
    "\n",
    "model = keras.Sequential(\n",
    "    [\n",
    "        keras.Input((32, 32, 3)),\n",
    "        layers.Conv2D(32, (3, 3), padding=\"same\", activation=\"relu\"),\n",
    "        layers.MaxPooling2D((2, 2)),\n",
    "        layers.Dropout(0.2),\n",
    "        layers.Conv2D(64, (3, 3), padding=\"same\", activation='relu'),\n",
    "        layers.MaxPooling2D((2, 2)),\n",
    "        layers.Dropout(0.2),\n",
    "        layers.Conv2D(64, (3, 3), padding=\"same\", activation='relu'),\n",
    "        layers.MaxPooling2D((2, 2)),\n",
    "        layers.Dropout(0.2),\n",
    "        layers.Conv2D(128, (3, 3), padding=\"same\", activation='relu'),\n",
    "        layers.Flatten(),\n",
    "        layers.Dropout(0.2),\n",
    "        layers.Dense(256, activation='relu'),\n",
    "        layers.Dropout(0.2),\n",
    "        layers.Dense(128, activation='relu'),\n",
    "        layers.Dropout(0.2),\n",
    "        layers.Dense(10, activation='softmax'),\n",
    "    ]\n",
    ")"
   ]
  },
  {
   "cell_type": "code",
   "execution_count": 8,
   "id": "9ca7f3f0",
   "metadata": {},
   "outputs": [
    {
     "name": "stdout",
     "output_type": "stream",
     "text": [
      "Model: \"sequential\"\n",
      "_________________________________________________________________\n",
      " Layer (type)                Output Shape              Param #   \n",
      "=================================================================\n",
      " conv2d (Conv2D)             (None, 32, 32, 32)        896       \n",
      "                                                                 \n",
      " max_pooling2d (MaxPooling2D  (None, 16, 16, 32)       0         \n",
      " )                                                               \n",
      "                                                                 \n",
      " dropout (Dropout)           (None, 16, 16, 32)        0         \n",
      "                                                                 \n",
      " conv2d_1 (Conv2D)           (None, 16, 16, 64)        18496     \n",
      "                                                                 \n",
      " max_pooling2d_1 (MaxPooling  (None, 8, 8, 64)         0         \n",
      " 2D)                                                             \n",
      "                                                                 \n",
      " dropout_1 (Dropout)         (None, 8, 8, 64)          0         \n",
      "                                                                 \n",
      " conv2d_2 (Conv2D)           (None, 8, 8, 64)          36928     \n",
      "                                                                 \n",
      " max_pooling2d_2 (MaxPooling  (None, 4, 4, 64)         0         \n",
      " 2D)                                                             \n",
      "                                                                 \n",
      " dropout_2 (Dropout)         (None, 4, 4, 64)          0         \n",
      "                                                                 \n",
      " conv2d_3 (Conv2D)           (None, 4, 4, 128)         73856     \n",
      "                                                                 \n",
      " flatten (Flatten)           (None, 2048)              0         \n",
      "                                                                 \n",
      " dropout_3 (Dropout)         (None, 2048)              0         \n",
      "                                                                 \n",
      " dense (Dense)               (None, 256)               524544    \n",
      "                                                                 \n",
      " dropout_4 (Dropout)         (None, 256)               0         \n",
      "                                                                 \n",
      " dense_1 (Dense)             (None, 128)               32896     \n",
      "                                                                 \n",
      " dropout_5 (Dropout)         (None, 128)               0         \n",
      "                                                                 \n",
      " dense_2 (Dense)             (None, 10)                1290      \n",
      "                                                                 \n",
      "=================================================================\n",
      "Total params: 688,906\n",
      "Trainable params: 688,906\n",
      "Non-trainable params: 0\n",
      "_________________________________________________________________\n"
     ]
    }
   ],
   "source": [
    "#Gives us a summary of our model\n",
    "\n",
    "model.summary()"
   ]
  },
  {
   "cell_type": "code",
   "execution_count": 9,
   "id": "2309c1cd",
   "metadata": {},
   "outputs": [],
   "source": [
    "#Compile our model\n",
    "\n",
    "model.compile(\n",
    "    optimizer='adam',\n",
    "    loss=tf.keras.losses.SparseCategoricalCrossentropy(from_logits=False),\n",
    "    metrics=['accuracy'],\n",
    ")"
   ]
  },
  {
   "cell_type": "code",
   "execution_count": 10,
   "id": "24c8a538",
   "metadata": {},
   "outputs": [],
   "source": [
    "#Defining callbacks\n",
    "\n",
    "early_stopping_cb = keras.callbacks.EarlyStopping(patience=10, restore_best_weights=True)"
   ]
  },
  {
   "cell_type": "code",
   "execution_count": 11,
   "id": "700ce286",
   "metadata": {},
   "outputs": [
    {
     "name": "stdout",
     "output_type": "stream",
     "text": [
      "Epoch 1/25\n",
      "782/782 [==============================] - 39s 49ms/step - loss: 1.7042 - accuracy: 0.3672 - val_loss: 1.3124 - val_accuracy: 0.5203\n",
      "Epoch 2/25\n",
      "782/782 [==============================] - 38s 49ms/step - loss: 1.2966 - accuracy: 0.5316 - val_loss: 1.1195 - val_accuracy: 0.5942\n",
      "Epoch 3/25\n",
      "782/782 [==============================] - 37s 47ms/step - loss: 1.1360 - accuracy: 0.5943 - val_loss: 1.0000 - val_accuracy: 0.6517\n",
      "Epoch 4/25\n",
      "782/782 [==============================] - 38s 48ms/step - loss: 1.0327 - accuracy: 0.6340 - val_loss: 0.9116 - val_accuracy: 0.6777\n",
      "Epoch 5/25\n",
      "782/782 [==============================] - 37s 48ms/step - loss: 0.9681 - accuracy: 0.6601 - val_loss: 0.8512 - val_accuracy: 0.7035\n",
      "Epoch 6/25\n",
      "782/782 [==============================] - 38s 49ms/step - loss: 0.9088 - accuracy: 0.6787 - val_loss: 0.8265 - val_accuracy: 0.7090\n",
      "Epoch 7/25\n",
      "782/782 [==============================] - 37s 48ms/step - loss: 0.8651 - accuracy: 0.6964 - val_loss: 0.7859 - val_accuracy: 0.7282\n",
      "Epoch 8/25\n",
      "782/782 [==============================] - 38s 49ms/step - loss: 0.8255 - accuracy: 0.7106 - val_loss: 0.8643 - val_accuracy: 0.7015\n",
      "Epoch 9/25\n",
      "782/782 [==============================] - 38s 48ms/step - loss: 0.7975 - accuracy: 0.7183 - val_loss: 0.7352 - val_accuracy: 0.7455\n",
      "Epoch 10/25\n",
      "782/782 [==============================] - 37s 48ms/step - loss: 0.7755 - accuracy: 0.7292 - val_loss: 0.7340 - val_accuracy: 0.7453\n",
      "Epoch 11/25\n",
      "782/782 [==============================] - 38s 48ms/step - loss: 0.7517 - accuracy: 0.7361 - val_loss: 0.7325 - val_accuracy: 0.7430\n",
      "Epoch 12/25\n",
      "782/782 [==============================] - 37s 47ms/step - loss: 0.7309 - accuracy: 0.7428 - val_loss: 0.7017 - val_accuracy: 0.7545\n",
      "Epoch 13/25\n",
      "782/782 [==============================] - 37s 48ms/step - loss: 0.7105 - accuracy: 0.7487 - val_loss: 0.7002 - val_accuracy: 0.7564\n",
      "Epoch 14/25\n",
      "782/782 [==============================] - 37s 48ms/step - loss: 0.6976 - accuracy: 0.7557 - val_loss: 0.6986 - val_accuracy: 0.7594\n",
      "Epoch 15/25\n",
      "782/782 [==============================] - 38s 48ms/step - loss: 0.6811 - accuracy: 0.7599 - val_loss: 0.7155 - val_accuracy: 0.7494\n",
      "Epoch 16/25\n",
      "782/782 [==============================] - 38s 48ms/step - loss: 0.6662 - accuracy: 0.7659 - val_loss: 0.6746 - val_accuracy: 0.7698\n",
      "Epoch 17/25\n",
      "782/782 [==============================] - 38s 48ms/step - loss: 0.6482 - accuracy: 0.7718 - val_loss: 0.7193 - val_accuracy: 0.7522\n",
      "Epoch 18/25\n",
      "782/782 [==============================] - 37s 47ms/step - loss: 0.6339 - accuracy: 0.7774 - val_loss: 0.6812 - val_accuracy: 0.7686\n",
      "Epoch 19/25\n",
      "782/782 [==============================] - 37s 47ms/step - loss: 0.6310 - accuracy: 0.7776 - val_loss: 0.7037 - val_accuracy: 0.7644\n",
      "Epoch 20/25\n",
      "782/782 [==============================] - 37s 48ms/step - loss: 0.6269 - accuracy: 0.7799 - val_loss: 0.6737 - val_accuracy: 0.7682\n",
      "Epoch 21/25\n",
      "782/782 [==============================] - 37s 48ms/step - loss: 0.6105 - accuracy: 0.7854 - val_loss: 0.6785 - val_accuracy: 0.7681\n",
      "Epoch 22/25\n",
      "782/782 [==============================] - 37s 48ms/step - loss: 0.6011 - accuracy: 0.7903 - val_loss: 0.7080 - val_accuracy: 0.7627\n",
      "Epoch 23/25\n",
      "782/782 [==============================] - 37s 48ms/step - loss: 0.6014 - accuracy: 0.7878 - val_loss: 0.6712 - val_accuracy: 0.7721\n",
      "Epoch 24/25\n",
      "782/782 [==============================] - 37s 48ms/step - loss: 0.5857 - accuracy: 0.7935 - val_loss: 0.6563 - val_accuracy: 0.7778\n",
      "Epoch 25/25\n",
      "782/782 [==============================] - 37s 48ms/step - loss: 0.5798 - accuracy: 0.7965 - val_loss: 0.6685 - val_accuracy: 0.7702\n"
     ]
    }
   ],
   "source": [
    "#Train our model with specified parameters\n",
    "\n",
    "history = model.fit(train_images, train_labels, batch_size=64, epochs=25, verbose=1,\n",
    "                    validation_data=(test_images, test_labels),\n",
    "                    callbacks=[early_stopping_cb])"
   ]
  },
  {
   "cell_type": "markdown",
   "id": "3133867c",
   "metadata": {},
   "source": [
    "## Evaluation"
   ]
  },
  {
   "cell_type": "code",
   "execution_count": 12,
   "id": "1d8ce73a",
   "metadata": {},
   "outputs": [
    {
     "data": {
      "text/plain": [
       "<matplotlib.legend.Legend at 0x1d127e66910>"
      ]
     },
     "execution_count": 12,
     "metadata": {},
     "output_type": "execute_result"
    },
    {
     "data": {
      "image/png": "[encoded data removed]",
      "text/plain": [
       "<Figure size 432x288 with 1 Axes>"
      ]
     },
     "metadata": {
      "needs_background": "light"
     },
     "output_type": "display_data"
    }
   ],
   "source": [
    "#Create graph using matplotlib\n",
    "\n",
    "plt.plot(history.history['accuracy'], label='accuracy')\n",
    "plt.plot(history.history['val_accuracy'], label = 'val_accuracy')\n",
    "plt.xlabel('Epoch')\n",
    "plt.ylabel('Accuracy')\n",
    "plt.ylim([0.5, 1])\n",
    "plt.legend(loc='lower right')"
   ]
  },
  {
   "cell_type": "code",
   "execution_count": 13,
   "id": "d74c35e5",
   "metadata": {},
   "outputs": [
    {
     "name": "stdout",
     "output_type": "stream",
     "text": [
      "157/157 - 1s - loss: 0.6685 - accuracy: 0.7702 - 1s/epoch - 9ms/step\n"
     ]
    },
    {
     "data": {
      "text/plain": [
       "[0.6685424447059631, 0.7702000141143799]"
      ]
     },
     "execution_count": 13,
     "metadata": {},
     "output_type": "execute_result"
    }
   ],
   "source": [
    "#Evaluate the model using the test dataset\n",
    "\n",
    "model.evaluate(test_images, test_labels, batch_size=64, verbose=2)"
   ]
  },
  {
   "cell_type": "markdown",
   "id": "daef521e",
   "metadata": {},
   "source": [
    "## Prediction"
   ]
  },
  {
   "cell_type": "code",
   "execution_count": 14,
   "id": "267a1c42",
   "metadata": {},
   "outputs": [
    {
     "name": "stdout",
     "output_type": "stream",
     "text": [
      "expected: cat\n",
      "actual: cat\n"
     ]
    },
    {
     "data": {
      "image/png": "[encoded data removed]",
      "text/plain": [
       "<Figure size 432x288 with 1 Axes>"
      ]
     },
     "metadata": {
      "needs_background": "light"
     },
     "output_type": "display_data"
    }
   ],
   "source": [
    "#Prediction to see if our model is accurate\n",
    "\n",
    "pred_label = model.predict(test_images)\n",
    "\n",
    "index = 0\n",
    "plt.imshow(test_images[index])\n",
    "print(\"expected: \" + class_names[pred_label[index].argmax()])\n",
    "print(\"actual: \" + class_names[int(test_labels[index])])"
   ]
  },
  {
   "cell_type": "code",
   "execution_count": null,
   "id": "84aa5152",
   "metadata": {},
   "outputs": [],
   "source": []
  }
 ],
 "metadata": {
  "kernelspec": {
   "display_name": "Python 3 (ipykernel)",
   "language": "python",
   "name": "python3"
  },
  "language_info": {
   "codemirror_mode": {
    "name": "ipython",
    "version": 3
   },
   "file_extension": ".py",
   "mimetype": "text/x-python",
   "name": "python",
   "nbconvert_exporter": "python",
   "pygments_lexer": "ipython3",
   "version": "3.9.9"
  }
 },
 "nbformat": 4,
 "nbformat_minor": 5
}
