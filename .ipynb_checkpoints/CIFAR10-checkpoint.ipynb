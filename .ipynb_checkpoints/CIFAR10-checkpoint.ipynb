{
 "cells": [
  {
   "cell_type": "markdown",
   "id": "c4feea48",
   "metadata": {},
   "source": [
    "## CIFAR10"
   ]
  },
  {
   "cell_type": "markdown",
   "id": "f7c8f9a4",
   "metadata": {},
   "source": [
    "<table align=\"left\">\n",
    "  <td>\n",
    "    <a target=\"_blank\" href=\"https://colab.research.google.com/drive/1I2aWD5twJdrq0SI2QD91HB5zCvvvCE_i\">\n",
    "    <img src=\"https://www.tensorflow.org/images/colab_logo_32px.png\" />Run in Google Colab</a>\n",
    "  </td>\n",
    "</table>"
   ]
  },
  {
   "cell_type": "markdown",
   "id": "4b7b3b2a",
   "metadata": {},
   "source": [
    "# CIFAR10 Dataset\n",
    "\n",
    "The CIFAR-10 dataset consists of 60000 32x32 colour images in 10 classes, with 6000 images per class. There are 50000 training images and 10000 test images.\n",
    "\n",
    "The dataset is divided into five training batches and one test batch, each with 10000 images. The test batch contains exactly 1000 randomly-selected images from each class. The training batches contain the remaining images in random order, but some training batches may contain more images from one class than another. Between them, the training batches contain exactly 5000 images from each class.\n",
    "\n",
    "We want to train a machine learning model to classify examples with the correct label based on the images.\n",
    "![title](CIFAR10.jpg)"
   ]
  },
  {
   "cell_type": "markdown",
   "id": "09f98a5d",
   "metadata": {},
   "source": [
    "# Setup"
   ]
  },
  {
   "cell_type": "code",
   "execution_count": 1,
   "id": "28b1d07d",
   "metadata": {},
   "outputs": [],
   "source": [
    "#Importing essential libraries\n",
    "\n",
    "import tensorflow as tf\n",
    "from tensorflow import keras\n",
    "from tensorflow.keras import layers\n",
    "from tensorflow.keras.datasets import cifar10\n",
    "import matplotlib.pyplot as plt"
   ]
  },
  {
   "cell_type": "markdown",
   "id": "3d511222",
   "metadata": {},
   "source": [
    "## Loading"
   ]
  },
  {
   "cell_type": "code",
   "execution_count": 2,
   "id": "344235a6",
   "metadata": {},
   "outputs": [],
   "source": [
    "#Loading dataset using tenserflow keras datasets\n",
    "\n",
    "(train_images, train_labels), (test_images, test_labels) = cifar10.load_data()"
   ]
  },
  {
   "cell_type": "markdown",
   "id": "9e014fc6",
   "metadata": {},
   "source": [
    "## Data Analysis\n"
   ]
  },
  {
   "cell_type": "markdown",
   "id": "cf4a77f3",
   "metadata": {},
   "source": [
    "We can see there are 50.000 training images and 10.000 test images"
   ]
  },
  {
   "cell_type": "code",
   "execution_count": 3,
   "id": "8fc9cf48",
   "metadata": {},
   "outputs": [
    {
     "name": "stdout",
     "output_type": "stream",
     "text": [
      "(50000, 32, 32, 3)\n",
      "(50000, 1)\n"
     ]
    }
   ],
   "source": [
    "print(train_images.shape)\n",
    "print(train_labels.shape)"
   ]
  },
  {
   "cell_type": "code",
   "execution_count": 4,
   "id": "3c3d2791",
   "metadata": {},
   "outputs": [
    {
     "name": "stdout",
     "output_type": "stream",
     "text": [
      "(10000, 32, 32, 3)\n",
      "(10000, 1)\n"
     ]
    }
   ],
   "source": [
    "print(test_images.shape)\n",
    "print(test_labels.shape)"
   ]
  },
  {
   "cell_type": "markdown",
   "id": "6768cd5e",
   "metadata": {},
   "source": [
    "Here we can see an example from our train dataset"
   ]
  },
  {
   "cell_type": "code",
   "execution_count": 5,
   "id": "73536d75",
   "metadata": {},
   "outputs": [
    {
     "name": "stdout",
     "output_type": "stream",
     "text": [
      "label: frog\n"
     ]
    },
    {
     "data": {
      "image/png": "[encoded data removed]",
      "text/plain": [
       "<Figure size 432x288 with 1 Axes>"
      ]
     },
     "metadata": {
      "needs_background": "light"
     },
     "output_type": "display_data"
    }
   ],
   "source": [
    "class_names = ['airplane', 'automobile', 'bird', 'cat', 'deer',\n",
    "               'dog', 'frog', 'horse', 'ship', 'truck']\n",
    "index = 0\n",
    "plt.imshow(train_images[index])\n",
    "print(\"label: \" + class_names[int(train_labels[index])])"
   ]
  },
  {
   "cell_type": "markdown",
   "id": "14ff2afa",
   "metadata": {},
   "source": [
    "## Preparing"
   ]
  },
  {
   "cell_type": "code",
   "execution_count": 6,
   "id": "63c19db8",
   "metadata": {},
   "outputs": [],
   "source": [
    "#Divide images with 255 to normalize them between 0 and 1\n",
    "\n",
    "train_images = train_images.astype(\"float32\") / 255.0\n",
    "test_images = test_images.astype(\"float32\") / 255.0"
   ]
  },
  {
   "cell_type": "markdown",
   "id": "86caae91",
   "metadata": {},
   "source": [
    "## Training"
   ]
  },
  {
   "cell_type": "code",
   "execution_count": 7,
   "id": "864ab0f8",
   "metadata": {},
   "outputs": [],
   "source": [
    "#We use the keras sequential model to train our machine learning     \n",
    "\n",
    "model = keras.Sequential(\n",
    "    [\n",
    "        layers.Flatten(input_shape=(32,32,3)),\n",
    "        layers.Dense(300, activation='selu', kernel_initializer='lecun_normal'),\n",
    "        layers.Dropout(0.1),\n",
    "        layers.Dense(300, activation='selu', kernel_initializer='lecun_normal'),\n",
    "        layers.Dropout(0.1),\n",
    "        layers.Dense(300, activation='selu', kernel_initializer='lecun_normal'),\n",
    "        layers.Dropout(0.1),\n",
    "        layers.Dense(10, activation='softmax'),\n",
    "    ]\n",
    ")"
   ]
  },
  {
   "cell_type": "code",
   "execution_count": 8,
   "id": "9ca7f3f0",
   "metadata": {},
   "outputs": [
    {
     "name": "stdout",
     "output_type": "stream",
     "text": [
      "Model: \"sequential\"\n",
      "_________________________________________________________________\n",
      " Layer (type)                Output Shape              Param #   \n",
      "=================================================================\n",
      " flatten (Flatten)           (None, 3072)              0         \n",
      "                                                                 \n",
      " dense (Dense)               (None, 300)               921900    \n",
      "                                                                 \n",
      " dropout (Dropout)           (None, 300)               0         \n",
      "                                                                 \n",
      " dense_1 (Dense)             (None, 300)               90300     \n",
      "                                                                 \n",
      " dropout_1 (Dropout)         (None, 300)               0         \n",
      "                                                                 \n",
      " dense_2 (Dense)             (None, 300)               90300     \n",
      "                                                                 \n",
      " dropout_2 (Dropout)         (None, 300)               0         \n",
      "                                                                 \n",
      " dense_3 (Dense)             (None, 10)                3010      \n",
      "                                                                 \n",
      "=================================================================\n",
      "Total params: 1,105,510\n",
      "Trainable params: 1,105,510\n",
      "Non-trainable params: 0\n",
      "_________________________________________________________________\n"
     ]
    }
   ],
   "source": [
    "#Gives us a summary of our model\n",
    "\n",
    "model.summary()"
   ]
  },
  {
   "cell_type": "code",
   "execution_count": 9,
   "id": "2309c1cd",
   "metadata": {},
   "outputs": [],
   "source": [
    "#Compile our model\n",
    "\n",
    "model.compile(\n",
    "    optimizer=tf.keras.optimizers.SGD(momentum=0.9),\n",
    "    loss=tf.keras.losses.SparseCategoricalCrossentropy(from_logits=False),\n",
    "    metrics=['accuracy'],\n",
    ")"
   ]
  },
  {
   "cell_type": "code",
   "execution_count": 10,
   "id": "24c8a538",
   "metadata": {},
   "outputs": [],
   "source": [
    "#Defining callbacks\n",
    "\n",
    "early_stopping = keras.callbacks.EarlyStopping(patience=10, restore_best_weights=True)\n",
    "\n",
    "learning_rate_scheduling = keras.callbacks.ReduceLROnPlateau(factor=0.4, patience=4)"
   ]
  },
  {
   "cell_type": "code",
   "execution_count": 11,
   "id": "700ce286",
   "metadata": {},
   "outputs": [
    {
     "name": "stdout",
     "output_type": "stream",
     "text": [
      "Epoch 1/100\n",
      "782/782 [==============================] - 5s 7ms/step - loss: 2.2064 - accuracy: 0.2648 - val_loss: 1.8320 - val_accuracy: 0.3330 - lr: 0.0100\n",
      "Epoch 2/100\n",
      "782/782 [==============================] - 5s 6ms/step - loss: 1.8383 - accuracy: 0.3441 - val_loss: 1.8081 - val_accuracy: 0.3619 - lr: 0.0100\n",
      "Epoch 3/100\n",
      "782/782 [==============================] - 4s 5ms/step - loss: 1.7718 - accuracy: 0.3689 - val_loss: 1.6273 - val_accuracy: 0.4187 - lr: 0.0100\n",
      "Epoch 4/100\n",
      "782/782 [==============================] - 4s 6ms/step - loss: 1.7148 - accuracy: 0.3926 - val_loss: 1.7686 - val_accuracy: 0.3825 - lr: 0.0100\n",
      "Epoch 5/100\n",
      "782/782 [==============================] - 4s 5ms/step - loss: 1.6732 - accuracy: 0.4062 - val_loss: 1.6075 - val_accuracy: 0.4324 - lr: 0.0100\n",
      "Epoch 6/100\n",
      "782/782 [==============================] - 4s 5ms/step - loss: 1.6401 - accuracy: 0.4163 - val_loss: 1.5838 - val_accuracy: 0.4256 - lr: 0.0100\n",
      "Epoch 7/100\n",
      "782/782 [==============================] - 4s 6ms/step - loss: 1.6172 - accuracy: 0.4265 - val_loss: 1.5552 - val_accuracy: 0.4466 - lr: 0.0100\n",
      "Epoch 8/100\n",
      "782/782 [==============================] - 4s 5ms/step - loss: 1.5955 - accuracy: 0.4363 - val_loss: 1.5571 - val_accuracy: 0.4490 - lr: 0.0100\n",
      "Epoch 9/100\n",
      "782/782 [==============================] - 4s 5ms/step - loss: 1.5751 - accuracy: 0.4401 - val_loss: 1.5076 - val_accuracy: 0.4607 - lr: 0.0100\n",
      "Epoch 10/100\n",
      "782/782 [==============================] - 4s 6ms/step - loss: 1.5641 - accuracy: 0.4466 - val_loss: 1.5650 - val_accuracy: 0.4433 - lr: 0.0100\n",
      "Epoch 11/100\n",
      "782/782 [==============================] - 4s 6ms/step - loss: 1.5330 - accuracy: 0.4576 - val_loss: 1.4815 - val_accuracy: 0.4714 - lr: 0.0100\n",
      "Epoch 12/100\n",
      "782/782 [==============================] - 4s 5ms/step - loss: 1.5170 - accuracy: 0.4640 - val_loss: 1.4610 - val_accuracy: 0.4787 - lr: 0.0100\n",
      "Epoch 13/100\n",
      "782/782 [==============================] - 4s 5ms/step - loss: 1.5051 - accuracy: 0.4657 - val_loss: 1.4266 - val_accuracy: 0.4944 - lr: 0.0100\n",
      "Epoch 14/100\n",
      "782/782 [==============================] - 4s 5ms/step - loss: 1.4901 - accuracy: 0.4707 - val_loss: 1.4867 - val_accuracy: 0.4734 - lr: 0.0100\n",
      "Epoch 15/100\n",
      "782/782 [==============================] - 4s 5ms/step - loss: 1.4837 - accuracy: 0.4769 - val_loss: 1.4595 - val_accuracy: 0.4859 - lr: 0.0100\n",
      "Epoch 16/100\n",
      "782/782 [==============================] - 4s 6ms/step - loss: 1.4760 - accuracy: 0.4793 - val_loss: 1.4517 - val_accuracy: 0.4828 - lr: 0.0100\n",
      "Epoch 17/100\n",
      "782/782 [==============================] - 4s 5ms/step - loss: 1.4423 - accuracy: 0.4878 - val_loss: 1.4704 - val_accuracy: 0.4867 - lr: 0.0100\n",
      "Epoch 18/100\n",
      "782/782 [==============================] - 4s 5ms/step - loss: 1.2948 - accuracy: 0.5369 - val_loss: 1.3657 - val_accuracy: 0.5140 - lr: 0.0040\n",
      "Epoch 19/100\n",
      "782/782 [==============================] - 4s 5ms/step - loss: 1.2735 - accuracy: 0.5441 - val_loss: 1.3463 - val_accuracy: 0.5196 - lr: 0.0040\n",
      "Epoch 20/100\n",
      "782/782 [==============================] - 4s 6ms/step - loss: 1.2649 - accuracy: 0.5487 - val_loss: 1.3141 - val_accuracy: 0.5338 - lr: 0.0040\n",
      "Epoch 21/100\n",
      "782/782 [==============================] - 4s 5ms/step - loss: 1.2565 - accuracy: 0.5529 - val_loss: 1.3278 - val_accuracy: 0.5310 - lr: 0.0040\n",
      "Epoch 22/100\n",
      "782/782 [==============================] - 4s 5ms/step - loss: 1.2451 - accuracy: 0.5557 - val_loss: 1.2992 - val_accuracy: 0.5331 - lr: 0.0040\n",
      "Epoch 23/100\n",
      "782/782 [==============================] - 4s 5ms/step - loss: 1.2380 - accuracy: 0.5578 - val_loss: 1.3191 - val_accuracy: 0.5338 - lr: 0.0040\n",
      "Epoch 24/100\n",
      "782/782 [==============================] - 4s 5ms/step - loss: 1.2296 - accuracy: 0.5597 - val_loss: 1.3102 - val_accuracy: 0.5370 - lr: 0.0040\n",
      "Epoch 25/100\n",
      "782/782 [==============================] - 4s 6ms/step - loss: 1.2224 - accuracy: 0.5628 - val_loss: 1.2832 - val_accuracy: 0.5420 - lr: 0.0040\n",
      "Epoch 26/100\n",
      "782/782 [==============================] - 4s 5ms/step - loss: 1.2157 - accuracy: 0.5637 - val_loss: 1.3100 - val_accuracy: 0.5393 - lr: 0.0040\n",
      "Epoch 27/100\n",
      "782/782 [==============================] - 4s 5ms/step - loss: 1.2074 - accuracy: 0.5671 - val_loss: 1.2980 - val_accuracy: 0.5430 - lr: 0.0040\n",
      "Epoch 28/100\n",
      "782/782 [==============================] - 4s 6ms/step - loss: 1.2024 - accuracy: 0.5704 - val_loss: 1.2891 - val_accuracy: 0.5396 - lr: 0.0040\n",
      "Epoch 29/100\n",
      "782/782 [==============================] - 4s 5ms/step - loss: 1.1958 - accuracy: 0.5707 - val_loss: 1.3039 - val_accuracy: 0.5355 - lr: 0.0040\n",
      "Epoch 30/100\n",
      "782/782 [==============================] - 5s 6ms/step - loss: 1.1315 - accuracy: 0.5951 - val_loss: 1.2572 - val_accuracy: 0.5511 - lr: 0.0016\n",
      "Epoch 31/100\n",
      "782/782 [==============================] - 4s 5ms/step - loss: 1.1211 - accuracy: 0.5985 - val_loss: 1.2431 - val_accuracy: 0.5585 - lr: 0.0016\n",
      "Epoch 32/100\n",
      "782/782 [==============================] - 5s 6ms/step - loss: 1.1120 - accuracy: 0.6003 - val_loss: 1.2416 - val_accuracy: 0.5574 - lr: 0.0016\n",
      "Epoch 33/100\n",
      "782/782 [==============================] - 4s 6ms/step - loss: 1.1103 - accuracy: 0.6013 - val_loss: 1.2334 - val_accuracy: 0.5644 - lr: 0.0016\n",
      "Epoch 34/100\n",
      "782/782 [==============================] - 4s 5ms/step - loss: 1.1072 - accuracy: 0.6040 - val_loss: 1.2480 - val_accuracy: 0.5608 - lr: 0.0016\n",
      "Epoch 35/100\n",
      "782/782 [==============================] - 4s 5ms/step - loss: 1.0990 - accuracy: 0.6061 - val_loss: 1.2401 - val_accuracy: 0.5612 - lr: 0.0016\n",
      "Epoch 36/100\n",
      "782/782 [==============================] - 4s 5ms/step - loss: 1.0997 - accuracy: 0.6056 - val_loss: 1.2485 - val_accuracy: 0.5609 - lr: 0.0016\n",
      "Epoch 37/100\n",
      "782/782 [==============================] - 4s 5ms/step - loss: 1.0968 - accuracy: 0.6068 - val_loss: 1.2399 - val_accuracy: 0.5618 - lr: 0.0016\n",
      "Epoch 38/100\n",
      "782/782 [==============================] - 4s 6ms/step - loss: 1.0703 - accuracy: 0.6166 - val_loss: 1.2265 - val_accuracy: 0.5647 - lr: 6.4000e-04\n",
      "Epoch 39/100\n",
      "782/782 [==============================] - 4s 5ms/step - loss: 1.0629 - accuracy: 0.6193 - val_loss: 1.2220 - val_accuracy: 0.5650 - lr: 6.4000e-04\n",
      "Epoch 40/100\n",
      "782/782 [==============================] - 4s 6ms/step - loss: 1.0560 - accuracy: 0.6211 - val_loss: 1.2220 - val_accuracy: 0.5635 - lr: 6.4000e-04\n",
      "Epoch 41/100\n",
      "782/782 [==============================] - 4s 5ms/step - loss: 1.0561 - accuracy: 0.6204 - val_loss: 1.2236 - val_accuracy: 0.5654 - lr: 6.4000e-04\n",
      "Epoch 42/100\n",
      "782/782 [==============================] - 4s 5ms/step - loss: 1.0549 - accuracy: 0.6224 - val_loss: 1.2298 - val_accuracy: 0.5637 - lr: 6.4000e-04\n",
      "Epoch 43/100\n",
      "782/782 [==============================] - 4s 5ms/step - loss: 1.0521 - accuracy: 0.6226 - val_loss: 1.2285 - val_accuracy: 0.5658 - lr: 6.4000e-04\n",
      "Epoch 44/100\n",
      "782/782 [==============================] - 4s 5ms/step - loss: 1.0386 - accuracy: 0.6260 - val_loss: 1.2208 - val_accuracy: 0.5654 - lr: 2.5600e-04\n",
      "Epoch 45/100\n",
      "782/782 [==============================] - 4s 5ms/step - loss: 1.0378 - accuracy: 0.6279 - val_loss: 1.2184 - val_accuracy: 0.5679 - lr: 2.5600e-04\n",
      "Epoch 46/100\n",
      "782/782 [==============================] - 4s 5ms/step - loss: 1.0388 - accuracy: 0.6291 - val_loss: 1.2210 - val_accuracy: 0.5677 - lr: 2.5600e-04\n",
      "Epoch 47/100\n",
      "782/782 [==============================] - 4s 6ms/step - loss: 1.0375 - accuracy: 0.6304 - val_loss: 1.2209 - val_accuracy: 0.5664 - lr: 2.5600e-04\n",
      "Epoch 48/100\n",
      "782/782 [==============================] - 4s 5ms/step - loss: 1.0330 - accuracy: 0.6292 - val_loss: 1.2190 - val_accuracy: 0.5693 - lr: 2.5600e-04\n",
      "Epoch 49/100\n",
      "782/782 [==============================] - 4s 5ms/step - loss: 1.0342 - accuracy: 0.6305 - val_loss: 1.2169 - val_accuracy: 0.5693 - lr: 2.5600e-04\n",
      "Epoch 50/100\n",
      "782/782 [==============================] - 4s 5ms/step - loss: 1.0344 - accuracy: 0.6291 - val_loss: 1.2186 - val_accuracy: 0.5689 - lr: 2.5600e-04\n",
      "Epoch 51/100\n",
      "782/782 [==============================] - 4s 6ms/step - loss: 1.0332 - accuracy: 0.6299 - val_loss: 1.2185 - val_accuracy: 0.5699 - lr: 2.5600e-04\n",
      "Epoch 52/100\n",
      "782/782 [==============================] - 4s 5ms/step - loss: 1.0339 - accuracy: 0.6340 - val_loss: 1.2164 - val_accuracy: 0.5700 - lr: 2.5600e-04\n"
     ]
    },
    {
     "name": "stdout",
     "output_type": "stream",
     "text": [
      "Epoch 53/100\n",
      "782/782 [==============================] - 4s 5ms/step - loss: 1.0320 - accuracy: 0.6306 - val_loss: 1.2217 - val_accuracy: 0.5689 - lr: 2.5600e-04\n",
      "Epoch 54/100\n",
      "782/782 [==============================] - 4s 5ms/step - loss: 1.0313 - accuracy: 0.6286 - val_loss: 1.2228 - val_accuracy: 0.5678 - lr: 2.5600e-04\n",
      "Epoch 55/100\n",
      "782/782 [==============================] - 4s 5ms/step - loss: 1.0318 - accuracy: 0.6313 - val_loss: 1.2182 - val_accuracy: 0.5683 - lr: 2.5600e-04\n",
      "Epoch 56/100\n",
      "782/782 [==============================] - 4s 6ms/step - loss: 1.0305 - accuracy: 0.6310 - val_loss: 1.2183 - val_accuracy: 0.5681 - lr: 2.5600e-04\n",
      "Epoch 57/100\n",
      "782/782 [==============================] - 4s 5ms/step - loss: 1.0257 - accuracy: 0.6321 - val_loss: 1.2167 - val_accuracy: 0.5690 - lr: 1.0240e-04\n",
      "Epoch 58/100\n",
      "782/782 [==============================] - 4s 6ms/step - loss: 1.0242 - accuracy: 0.6321 - val_loss: 1.2177 - val_accuracy: 0.5680 - lr: 1.0240e-04\n",
      "Epoch 59/100\n",
      "782/782 [==============================] - 4s 6ms/step - loss: 1.0220 - accuracy: 0.6336 - val_loss: 1.2172 - val_accuracy: 0.5682 - lr: 1.0240e-04\n",
      "Epoch 60/100\n",
      "782/782 [==============================] - 4s 6ms/step - loss: 1.0256 - accuracy: 0.6328 - val_loss: 1.2162 - val_accuracy: 0.5698 - lr: 1.0240e-04\n",
      "Epoch 61/100\n",
      "782/782 [==============================] - 4s 5ms/step - loss: 1.0207 - accuracy: 0.6341 - val_loss: 1.2177 - val_accuracy: 0.5709 - lr: 1.0240e-04\n",
      "Epoch 62/100\n",
      "782/782 [==============================] - 4s 5ms/step - loss: 1.0210 - accuracy: 0.6345 - val_loss: 1.2161 - val_accuracy: 0.5685 - lr: 1.0240e-04\n",
      "Epoch 63/100\n",
      "782/782 [==============================] - 4s 6ms/step - loss: 1.0206 - accuracy: 0.6347 - val_loss: 1.2158 - val_accuracy: 0.5707 - lr: 1.0240e-04\n",
      "Epoch 64/100\n",
      "782/782 [==============================] - 4s 5ms/step - loss: 1.0205 - accuracy: 0.6332 - val_loss: 1.2172 - val_accuracy: 0.5691 - lr: 1.0240e-04\n",
      "Epoch 65/100\n",
      "782/782 [==============================] - 4s 5ms/step - loss: 1.0188 - accuracy: 0.6357 - val_loss: 1.2163 - val_accuracy: 0.5704 - lr: 1.0240e-04\n",
      "Epoch 66/100\n",
      "782/782 [==============================] - 4s 5ms/step - loss: 1.0220 - accuracy: 0.6323 - val_loss: 1.2159 - val_accuracy: 0.5697 - lr: 1.0240e-04\n",
      "Epoch 67/100\n",
      "782/782 [==============================] - 4s 5ms/step - loss: 1.0211 - accuracy: 0.6343 - val_loss: 1.2172 - val_accuracy: 0.5692 - lr: 1.0240e-04\n",
      "Epoch 68/100\n",
      "782/782 [==============================] - 4s 6ms/step - loss: 1.0171 - accuracy: 0.6359 - val_loss: 1.2157 - val_accuracy: 0.5707 - lr: 4.0960e-05\n",
      "Epoch 69/100\n",
      "782/782 [==============================] - 4s 5ms/step - loss: 1.0134 - accuracy: 0.6361 - val_loss: 1.2150 - val_accuracy: 0.5695 - lr: 4.0960e-05\n",
      "Epoch 70/100\n",
      "782/782 [==============================] - 4s 5ms/step - loss: 1.0169 - accuracy: 0.6366 - val_loss: 1.2160 - val_accuracy: 0.5686 - lr: 4.0960e-05\n",
      "Epoch 71/100\n",
      "782/782 [==============================] - 4s 5ms/step - loss: 1.0153 - accuracy: 0.6358 - val_loss: 1.2155 - val_accuracy: 0.5684 - lr: 4.0960e-05\n",
      "Epoch 72/100\n",
      "782/782 [==============================] - 4s 6ms/step - loss: 1.0182 - accuracy: 0.6332 - val_loss: 1.2156 - val_accuracy: 0.5692 - lr: 4.0960e-05\n",
      "Epoch 73/100\n",
      "782/782 [==============================] - 4s 6ms/step - loss: 1.0177 - accuracy: 0.6361 - val_loss: 1.2158 - val_accuracy: 0.5689 - lr: 4.0960e-05\n",
      "Epoch 74/100\n",
      "782/782 [==============================] - 4s 6ms/step - loss: 1.0177 - accuracy: 0.6359 - val_loss: 1.2148 - val_accuracy: 0.5692 - lr: 1.6384e-05\n",
      "Epoch 75/100\n",
      "782/782 [==============================] - 4s 5ms/step - loss: 1.0160 - accuracy: 0.6370 - val_loss: 1.2156 - val_accuracy: 0.5693 - lr: 1.6384e-05\n",
      "Epoch 76/100\n",
      "782/782 [==============================] - 5s 6ms/step - loss: 1.0137 - accuracy: 0.6344 - val_loss: 1.2153 - val_accuracy: 0.5693 - lr: 1.6384e-05\n",
      "Epoch 77/100\n",
      "782/782 [==============================] - 4s 5ms/step - loss: 1.0159 - accuracy: 0.6366 - val_loss: 1.2153 - val_accuracy: 0.5697 - lr: 1.6384e-05\n",
      "Epoch 78/100\n",
      "782/782 [==============================] - 4s 5ms/step - loss: 1.0152 - accuracy: 0.6375 - val_loss: 1.2150 - val_accuracy: 0.5686 - lr: 1.6384e-05\n",
      "Epoch 79/100\n",
      "782/782 [==============================] - 4s 5ms/step - loss: 1.0167 - accuracy: 0.6378 - val_loss: 1.2150 - val_accuracy: 0.5685 - lr: 6.5536e-06\n",
      "Epoch 80/100\n",
      "782/782 [==============================] - 4s 5ms/step - loss: 1.0163 - accuracy: 0.6350 - val_loss: 1.2152 - val_accuracy: 0.5689 - lr: 6.5536e-06\n",
      "Epoch 81/100\n",
      "782/782 [==============================] - 5s 6ms/step - loss: 1.0158 - accuracy: 0.6367 - val_loss: 1.2151 - val_accuracy: 0.5688 - lr: 6.5536e-06\n",
      "Epoch 82/100\n",
      "782/782 [==============================] - 4s 6ms/step - loss: 1.0174 - accuracy: 0.6353 - val_loss: 1.2151 - val_accuracy: 0.5690 - lr: 6.5536e-06\n",
      "Epoch 83/100\n",
      "782/782 [==============================] - 4s 5ms/step - loss: 1.0130 - accuracy: 0.6405 - val_loss: 1.2151 - val_accuracy: 0.5687 - lr: 2.6214e-06\n",
      "Epoch 84/100\n",
      "782/782 [==============================] - 4s 6ms/step - loss: 1.0139 - accuracy: 0.6384 - val_loss: 1.2151 - val_accuracy: 0.5686 - lr: 2.6214e-06\n"
     ]
    }
   ],
   "source": [
    "#Train our model with specified parameters\n",
    "\n",
    "history = model.fit(train_images, train_labels, batch_size=64, epochs=100, verbose=1,\n",
    "                    validation_data=(test_images, test_labels),\n",
    "                    callbacks=[early_stopping, learning_rate_scheduling])"
   ]
  },
  {
   "cell_type": "markdown",
   "id": "3133867c",
   "metadata": {},
   "source": [
    "## Evaluation"
   ]
  },
  {
   "cell_type": "code",
   "execution_count": 12,
   "id": "1d8ce73a",
   "metadata": {},
   "outputs": [
    {
     "data": {
      "text/plain": [
       "<matplotlib.legend.Legend at 0x1bc25380850>"
      ]
     },
     "execution_count": 12,
     "metadata": {},
     "output_type": "execute_result"
    },
    {
     "data": {
      "image/png": "[encoded data removed]",
      "text/plain": [
       "<Figure size 432x288 with 1 Axes>"
      ]
     },
     "metadata": {
      "needs_background": "light"
     },
     "output_type": "display_data"
    }
   ],
   "source": [
    "#Create graph using matplotlib\n",
    "\n",
    "plt.plot(history.history['accuracy'], label='accuracy')\n",
    "plt.plot(history.history['val_accuracy'], label = 'val_accuracy')\n",
    "plt.xlabel('Epoch')\n",
    "plt.ylabel('Accuracy')\n",
    "plt.ylim([0.5, 1])\n",
    "plt.legend(loc='lower right')"
   ]
  },
  {
   "cell_type": "code",
   "execution_count": 13,
   "id": "d74c35e5",
   "metadata": {},
   "outputs": [
    {
     "name": "stdout",
     "output_type": "stream",
     "text": [
      "157/157 - 0s - loss: 1.2148 - accuracy: 0.5692 - 418ms/epoch - 3ms/step\n"
     ]
    },
    {
     "data": {
      "text/plain": [
       "[1.214812994003296, 0.5691999793052673]"
      ]
     },
     "execution_count": 13,
     "metadata": {},
     "output_type": "execute_result"
    }
   ],
   "source": [
    "#Evaluate the model using the test dataset\n",
    "\n",
    "model.evaluate(test_images, test_labels, batch_size=64, verbose=2)"
   ]
  },
  {
   "cell_type": "markdown",
   "id": "daef521e",
   "metadata": {},
   "source": [
    "## Prediction"
   ]
  },
  {
   "cell_type": "code",
   "execution_count": 14,
   "id": "267a1c42",
   "metadata": {},
   "outputs": [
    {
     "name": "stdout",
     "output_type": "stream",
     "text": [
      "expected: cat\n",
      "actual: cat\n"
     ]
    },
    {
     "data": {
      "image/png": "[encoded data removed]",
      "text/plain": [
       "<Figure size 432x288 with 1 Axes>"
      ]
     },
     "metadata": {
      "needs_background": "light"
     },
     "output_type": "display_data"
    }
   ],
   "source": [
    "#Prediction to see if our model is accurate\n",
    "\n",
    "pred_label = model.predict(test_images)\n",
    "\n",
    "index = 0\n",
    "plt.imshow(test_images[index])\n",
    "print(\"expected: \" + class_names[pred_label[index].argmax()])\n",
    "print(\"actual: \" + class_names[int(test_labels[index])])"
   ]
  },
  {
   "cell_type": "code",
   "execution_count": null,
   "id": "84aa5152",
   "metadata": {},
   "outputs": [],
   "source": []
  }
 ],
 "metadata": {
  "kernelspec": {
   "display_name": "Python 3 (ipykernel)",
   "language": "python",
   "name": "python3"
  },
  "language_info": {
   "codemirror_mode": {
    "name": "ipython",
    "version": 3
   },
   "file_extension": ".py",
   "mimetype": "text/x-python",
   "name": "python",
   "nbconvert_exporter": "python",
   "pygments_lexer": "ipython3",
   "version": "3.9.9"
  }
 },
 "nbformat": 4,
 "nbformat_minor": 5
}
