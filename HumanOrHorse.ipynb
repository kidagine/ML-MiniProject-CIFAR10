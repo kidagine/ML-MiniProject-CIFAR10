{
 "cells": [
  {
   "cell_type": "markdown",
   "id": "c4feea48",
   "metadata": {},
   "source": [
    "## Horses Or Humans"
   ]
  },
  {
   "cell_type": "markdown",
   "id": "3917e73c",
   "metadata": {},
   "source": [
    "<table align=\"left\">\n",
    "  <td>\n",
    "    <a target=\"_blank\" href=\"https://colab.research.google.com/drive/1I2aWD5twJdrq0SI2QD91HB5zCvvvCE_i\">\n",
    "    <img src=\"https://www.tensorflow.org/images/colab_logo_32px.png\" />Run in Google Colab</a>\n",
    "  </td>\n",
    "</table>"
   ]
  },
  {
   "cell_type": "code",
   "execution_count": 7,
   "id": "ed7bcbbe",
   "metadata": {},
   "outputs": [],
   "source": [
    "import tensorflow as tf\n",
    "from tensorflow import keras\n",
    "from tensorflow.keras import layers\n",
    "import tensorflow_datasets as tfds"
   ]
  },
  {
   "cell_type": "markdown",
   "id": "09f98a5d",
   "metadata": {},
   "source": [
    "# Setup"
   ]
  },
  {
   "cell_type": "markdown",
   "id": "4b7b3b2a",
   "metadata": {},
   "source": [
    "# The Horses Or Humans Dataset\n",
    "\n",
    "This dataset contains 500 CGI images of horses and 500 CGI images of humans.\n",
    "\n",
    "Horse (class 0)\n",
    "Human (class 1)\n",
    "\n",
    "We want to train a machine learning model to classify examples as either horse or human based on the images.\n",
    "![title](horses_or_humans.png)"
   ]
  },
  {
   "cell_type": "markdown",
   "id": "3d511222",
   "metadata": {},
   "source": [
    "## Loading"
   ]
  },
  {
   "cell_type": "code",
   "execution_count": 8,
   "id": "344235a6",
   "metadata": {},
   "outputs": [],
   "source": [
    "(ds_train, ds_test), ds_info = tfds.load('horses_or_humans', split=['train', 'test'], shuffle_files=True, as_supervised=True, with_info =True)"
   ]
  },
  {
   "cell_type": "code",
   "execution_count": 9,
   "id": "7be559d9",
   "metadata": {},
   "outputs": [
    {
     "name": "stdout",
     "output_type": "stream",
     "text": [
      "tfds.core.DatasetInfo(\n",
      "    name='horses_or_humans',\n",
      "    full_name='horses_or_humans/3.0.0',\n",
      "    description=\"\"\"\n",
      "    A large set of images of horses and humans.\n",
      "    \"\"\",\n",
      "    homepage='http://laurencemoroney.com/horses-or-humans-dataset',\n",
      "    data_path='C:\\\\Users\\\\David\\\\tensorflow_datasets\\\\horses_or_humans\\\\3.0.0',\n",
      "    download_size=153.59 MiB,\n",
      "    dataset_size=153.53 MiB,\n",
      "    features=FeaturesDict({\n",
      "        'image': Image(shape=(300, 300, 3), dtype=tf.uint8),\n",
      "        'label': ClassLabel(shape=(), dtype=tf.int64, num_classes=2),\n",
      "    }),\n",
      "    supervised_keys=('image', 'label'),\n",
      "    disable_shuffling=False,\n",
      "    splits={\n",
      "        'test': <SplitInfo num_examples=256, num_shards=1>,\n",
      "        'train': <SplitInfo num_examples=1027, num_shards=2>,\n",
      "    },\n",
      "    citation=\"\"\"@ONLINE {horses_or_humans,\n",
      "    author = \"Laurence Moroney\",\n",
      "    title = \"Horses or Humans Dataset\",\n",
      "    month = \"feb\",\n",
      "    year = \"2019\",\n",
      "    url = \"http://laurencemoroney.com/horses-or-humans-dataset\"\n",
      "    }\"\"\",\n",
      ")\n"
     ]
    }
   ],
   "source": [
    "print(ds_info)"
   ]
  },
  {
   "cell_type": "markdown",
   "id": "14ff2afa",
   "metadata": {},
   "source": [
    "## Preparing"
   ]
  },
  {
   "cell_type": "code",
   "execution_count": 10,
   "id": "63c19db8",
   "metadata": {},
   "outputs": [],
   "source": [
    "def normalize_img(image, label):\n",
    "    return tf.cast(image, tf.float32) / 255.0, label\n",
    "\n",
    "AUTOTUNE = tf.data.experimental.AUTOTUNE\n",
    "BATCH_SIZE = 64\n",
    "ds_train = ds_train.map(normalize_img, num_parallel_calls = AUTOTUNE)\n",
    "ds_train = ds_train.cache()\n",
    "ds_train = ds_train.shuffle(ds_info.splits[\"train\"].num_examples)\n",
    "ds_train = ds_train.batch(BATCH_SIZE)\n",
    "ds_train = ds_train.prefetch(AUTOTUNE)\n",
    "\n",
    "ds_test = ds_test.map(normalize_img, num_parallel_calls = AUTOTUNE)\n",
    "ds_test = ds_test.batch(128)\n",
    "ds_test = ds_test.prefetch(AUTOTUNE)"
   ]
  },
  {
   "cell_type": "markdown",
   "id": "86caae91",
   "metadata": {},
   "source": [
    "## Training"
   ]
  },
  {
   "cell_type": "code",
   "execution_count": null,
   "id": "864ab0f8",
   "metadata": {},
   "outputs": [
    {
     "name": "stdout",
     "output_type": "stream",
     "text": [
      "Epoch 1/5\n",
      "17/17 - 15s - loss: 21.7280 - accuracy: 0.5268 - 15s/epoch - 893ms/step\n",
      "Epoch 2/5\n"
     ]
    }
   ],
   "source": [
    "model = keras.Sequential(\n",
    "    [\n",
    "        keras.Input((300, 300, 3)),\n",
    "        layers.Conv2D(32, 3, activation=\"relu\"),\n",
    "        layers.Flatten(),\n",
    "        tf.keras.layers.Dense(10, activation=\"softmax\"),\n",
    "    ]\n",
    ")\n",
    "\n",
    "model.compile(\n",
    "    optimizer=keras.optimizers.Adam(0.001),\n",
    "    loss=keras.losses.SparseCategoricalCrossentropy(),\n",
    "    metrics=[\"accuracy\"],\n",
    ")\n",
    "\n",
    "model.fit(ds_train, epochs=5, verbose=2)"
   ]
  },
  {
   "cell_type": "markdown",
   "id": "3133867c",
   "metadata": {},
   "source": [
    "## Evaluation"
   ]
  },
  {
   "cell_type": "code",
   "execution_count": 6,
   "id": "0ebf0d7d",
   "metadata": {},
   "outputs": [
    {
     "name": "stdout",
     "output_type": "stream",
     "text": [
      "2/2 [==============================] - 2s 659ms/step - loss: 3.2237 - accuracy: 0.6758\n"
     ]
    },
    {
     "data": {
      "text/plain": [
       "[3.2236876487731934, 0.67578125]"
      ]
     },
     "execution_count": 6,
     "metadata": {},
     "output_type": "execute_result"
    }
   ],
   "source": [
    "model.evaluate(ds_test)"
   ]
  }
 ],
 "metadata": {
  "kernelspec": {
   "display_name": "Python 3 (ipykernel)",
   "language": "python",
   "name": "python3"
  },
  "language_info": {
   "codemirror_mode": {
    "name": "ipython",
    "version": 3
   },
   "file_extension": ".py",
   "mimetype": "text/x-python",
   "name": "python",
   "nbconvert_exporter": "python",
   "pygments_lexer": "ipython3",
   "version": "3.9.9"
  }
 },
 "nbformat": 4,
 "nbformat_minor": 5
}
